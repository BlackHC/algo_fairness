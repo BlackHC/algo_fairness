{
 "cells": [
  {
   "cell_type": "code",
   "execution_count": 1,
   "metadata": {
    "ExecuteTime": {
     "end_time": "2018-04-19T11:16:44.501266Z",
     "start_time": "2018-04-19T11:16:43.090233Z"
    }
   },
   "outputs": [
    {
     "name": "stdout",
     "output_type": "stream",
     "text": [
      "Appended C:\\Users\\black\\PycharmProjects\\feldman\\src to paths\n",
      "Switched to directory C:\\Users\\black\\PycharmProjects\\feldman\n",
      "%load_ext autoreload\n",
      "%autoreload 2\n"
     ]
    }
   ],
   "source": [
    "import blackhc.notebook"
   ]
  },
  {
   "cell_type": "code",
   "execution_count": 2,
   "metadata": {
    "ExecuteTime": {
     "end_time": "2018-04-19T11:16:50.775355Z",
     "start_time": "2018-04-19T11:16:46.767545Z"
    }
   },
   "outputs": [],
   "source": [
    "import pandas as pd"
   ]
  },
  {
   "cell_type": "code",
   "execution_count": 3,
   "metadata": {
    "ExecuteTime": {
     "end_time": "2018-04-19T11:16:57.982260Z",
     "start_time": "2018-04-19T11:16:57.894266Z"
    }
   },
   "outputs": [],
   "source": [
    "data = pd.read_csv('input/german_processed.csv')"
   ]
  },
  {
   "cell_type": "code",
   "execution_count": 7,
   "metadata": {
    "ExecuteTime": {
     "end_time": "2018-04-19T11:22:30.347959Z",
     "start_time": "2018-04-19T11:22:30.244926Z"
    }
   },
   "outputs": [
    {
     "name": "stderr",
     "output_type": "stream",
     "text": [
      "C:\\Program Files\\Anaconda3\\lib\\site-packages\\ipykernel_launcher.py:2: SettingWithCopyWarning: \n",
      "A value is trying to be set on a copy of a slice from a DataFrame\n",
      "\n",
      "See the caveats in the documentation: http://pandas.pydata.org/pandas-docs/stable/indexing.html#indexing-view-versus-copy\n",
      "  \n"
     ]
    }
   ],
   "source": [
    "data['age_cat'] = \"old\"\n",
    "data.age_cat[data['age'] < 25] = \"young\""
   ]
  },
  {
   "cell_type": "code",
   "execution_count": 8,
   "metadata": {
    "ExecuteTime": {
     "end_time": "2018-04-19T11:22:36.585526Z",
     "start_time": "2018-04-19T11:22:36.500508Z"
    }
   },
   "outputs": [
    {
     "data": {
      "text/plain": [
       "0        old\n",
       "1      young\n",
       "2        old\n",
       "3        old\n",
       "4        old\n",
       "5        old\n",
       "6        old\n",
       "7        old\n",
       "8        old\n",
       "9        old\n",
       "10       old\n",
       "11     young\n",
       "12     young\n",
       "13       old\n",
       "14       old\n",
       "15       old\n",
       "16       old\n",
       "17       old\n",
       "18       old\n",
       "19       old\n",
       "20       old\n",
       "21       old\n",
       "22       old\n",
       "23       old\n",
       "24       old\n",
       "25       old\n",
       "26       old\n",
       "27       old\n",
       "28       old\n",
       "29       old\n",
       "       ...  \n",
       "970    young\n",
       "971      old\n",
       "972      old\n",
       "973      old\n",
       "974      old\n",
       "975      old\n",
       "976      old\n",
       "977      old\n",
       "978      old\n",
       "979      old\n",
       "980      old\n",
       "981      old\n",
       "982      old\n",
       "983      old\n",
       "984      old\n",
       "985      old\n",
       "986      old\n",
       "987      old\n",
       "988      old\n",
       "989      old\n",
       "990      old\n",
       "991      old\n",
       "992    young\n",
       "993      old\n",
       "994      old\n",
       "995      old\n",
       "996      old\n",
       "997      old\n",
       "998    young\n",
       "999      old\n",
       "Name: age_cat, Length: 1000, dtype: object"
      ]
     },
     "execution_count": 8,
     "metadata": {},
     "output_type": "execute_result"
    }
   ],
   "source": [
    "data.age_cat"
   ]
  },
  {
   "cell_type": "code",
   "execution_count": 9,
   "metadata": {
    "ExecuteTime": {
     "end_time": "2018-04-19T11:22:40.981270Z",
     "start_time": "2018-04-19T11:22:40.875275Z"
    }
   },
   "outputs": [],
   "source": [
    "data.to_csv('input/german_processed_age_cat.csv')"
   ]
  },
  {
   "cell_type": "code",
   "execution_count": null,
   "metadata": {},
   "outputs": [],
   "source": []
  }
 ],
 "metadata": {
  "hide_input": false,
  "kernelspec": {
   "display_name": "Python 3",
   "language": "python",
   "name": "python3"
  },
  "language_info": {
   "codemirror_mode": {
    "name": "ipython",
    "version": 3
   },
   "file_extension": ".py",
   "mimetype": "text/x-python",
   "name": "python",
   "nbconvert_exporter": "python",
   "pygments_lexer": "ipython3",
   "version": "3.6.3"
  }
 },
 "nbformat": 4,
 "nbformat_minor": 2
}
