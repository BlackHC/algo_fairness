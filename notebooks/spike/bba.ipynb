{
 "cells": [
  {
   "cell_type": "code",
   "execution_count": 5,
   "metadata": {
    "ExecuteTime": {
     "end_time": "2018-04-18T15:30:48.457702Z",
     "start_time": "2018-04-18T15:30:46.418645Z"
    }
   },
   "outputs": [
    {
     "name": "stderr",
     "output_type": "stream",
     "text": [
      "C:\\Program Files\\Anaconda3\\lib\\site-packages\\h5py\\__init__.py:36: FutureWarning: Conversion of the second argument of issubdtype from `float` to `np.floating` is deprecated. In future, it will be treated as `np.float64 == np.dtype(float).type`.\n",
      "  from ._conv import register_converters as _register_converters\n"
     ]
    }
   ],
   "source": [
    "# import BlackBoxAuditing\n",
    "import BlackBoxAuditing as BBA\n",
    "# import machine learning technique\n",
    "from BlackBoxAuditing.model_factories import SVM, DecisionTree, NeuralNetwork\n",
    "\n",
    "\"\"\"\n",
    "Using a preloaded dataset\n",
    "\"\"\"\n",
    "# load in preloaded dataset\n",
    "data = BBA.load_data(\"german\")"
   ]
  },
  {
   "cell_type": "code",
   "execution_count": 6,
   "metadata": {
    "ExecuteTime": {
     "end_time": "2018-04-18T15:30:50.435673Z",
     "start_time": "2018-04-18T15:30:50.431647Z"
    }
   },
   "outputs": [],
   "source": [
    "# initialize the auditor and set parameters\n",
    "auditor = BBA.Auditor()\n",
    "auditor.ModelFactory= SVM"
   ]
  },
  {
   "cell_type": "code",
   "execution_count": 25,
   "metadata": {
    "ExecuteTime": {
     "end_time": "2018-04-18T15:39:30.460866Z",
     "start_time": "2018-04-18T15:39:30.455951Z"
    }
   },
   "outputs": [
    {
     "data": {
      "text/plain": [
       "'class'"
      ]
     },
     "execution_count": 25,
     "metadata": {},
     "output_type": "execute_result"
    }
   ],
   "source": [
    "data[3]"
   ]
  },
  {
   "cell_type": "code",
   "execution_count": null,
   "metadata": {
    "ExecuteTime": {
     "start_time": "2018-04-18T15:29:53.122Z"
    }
   },
   "outputs": [],
   "source": [
    "# call the auditor with the data\n",
    "auditor(data, output_dir=\"german_audit_output\")\n",
    "\n",
    "# find contexts of discrimination in dataset\n",
    "auditor.find_contexts(\"age_cat\", output_dir=\"german_context_output\")"
   ]
  },
  {
   "cell_type": "code",
   "execution_count": null,
   "metadata": {},
   "outputs": [],
   "source": []
  }
 ],
 "metadata": {
  "hide_input": false,
  "kernelspec": {
   "display_name": "Python 3",
   "language": "python",
   "name": "python3"
  },
  "language_info": {
   "codemirror_mode": {
    "name": "ipython",
    "version": 3
   },
   "file_extension": ".py",
   "mimetype": "text/x-python",
   "name": "python",
   "nbconvert_exporter": "python",
   "pygments_lexer": "ipython3",
   "version": "3.6.3"
  }
 },
 "nbformat": 4,
 "nbformat_minor": 2
}
