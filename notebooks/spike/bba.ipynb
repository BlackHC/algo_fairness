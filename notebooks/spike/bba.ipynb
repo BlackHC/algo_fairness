{
 "cells": [
  {
   "cell_type": "code",
   "execution_count": 1,
   "metadata": {
    "ExecuteTime": {
     "end_time": "2018-04-18T09:20:11.181291Z",
     "start_time": "2018-04-18T09:19:06.619438Z"
    }
   },
   "outputs": [
    {
     "name": "stderr",
     "output_type": "stream",
     "text": [
      "ERROR:root:Line magic function `%python` not found (But cell magic `%%python` exists, did you mean that instead?).\n",
      "C:\\Program Files\\Anaconda3\\lib\\site-packages\\h5py\\__init__.py:36: FutureWarning: Conversion of the second argument of issubdtype from `float` to `np.floating` is deprecated. In future, it will be treated as `np.float64 == np.dtype(float).type`.\n",
      "  from ._conv import register_converters as _register_converters\n"
     ]
    },
    {
     "name": "stdout",
     "output_type": "stream",
     "text": [
      "Training initial model. (10:19:08)\n",
      "Calculating original model statistics on test data:\n",
      "\tTraining Set:\n",
      "\t\tConf-Matrix: {'good': {'good': 456, 'bad': 12}, 'bad': {'bad': 110, 'good': 88}}\n",
      "\t\taccuracy: 0.8498498498498499\n",
      "\t\tBCR: 0.7649572649572649\n",
      "\tTesting Set:\n",
      "\t\tConf-Matrix {'good': {'good': 215, 'bad': 17}, 'bad': {'good': 61, 'bad': 41}}\n",
      "\t\taccuracy: 0.7664670658682635\n",
      "\t\tBCR: 0.66434246112238\n",
      "Auditing: 'checking_status' (1/20). (10:19:08)\n",
      "Auditing: 'duration' (2/20). (10:19:11)\n",
      "Auditing: 'credit_history' (3/20). (10:19:17)\n",
      "Auditing: 'purpose' (4/20). (10:19:20)\n",
      "Auditing: 'credit_amount' (5/20). (10:19:24)\n",
      "Auditing: 'savings_status' (6/20). (10:19:32)\n",
      "Auditing: 'employment' (7/20). (10:19:33)\n",
      "Auditing: 'installment_commitment' (8/20). (10:19:35)\n",
      "Auditing: 'personal_status' (9/20). (10:19:38)\n",
      "Auditing: 'other_parties' (10/20). (10:19:41)\n",
      "Auditing: 'residence' (11/20). (10:19:44)\n",
      "Auditing: 'property_magnitude' (12/20). (10:19:47)\n",
      "Auditing: 'age_cat' (13/20). (10:19:50)\n",
      "Auditing: 'other_payment_plans' (14/20). (10:19:53)\n",
      "Auditing: 'housing' (15/20). (10:19:55)\n",
      "Auditing: 'existing_credits' (16/20). (10:19:58)\n",
      "Auditing: 'job' (17/20). (10:20:01)\n",
      "Auditing: 'num_dependents' (18/20). (10:20:03)\n",
      "Auditing: 'own_telephone' (19/20). (10:20:05)\n",
      "Auditing: 'foreign_worker' (20/20). (10:20:08)\n",
      "Audit file dump set to False: Only mininal audit files have been saved.\n",
      "Audit files dumped to: german_audit_output.\n",
      "\n",
      "Ranking audit files by accuracy. (10:20:10)\n",
      "\t[('checking_status', 0.06586826347305397), ('credit_amount', 0.06586826347305397), ('duration', 0.05988023952095811), ('purpose', 0.05389221556886237), ('other_parties', 0.050898203592814384), ('property_magnitude', 0.03592814371257491), ('age_cat', 0.03293413173652704), ('job', 0.03293413173652704), ('savings_status', 0.020958083832335328), ('residence', 0.020958083832335328), ('other_payment_plans', 0.020958083832335328), ('housing', 0.020958083832335328), ('existing_credits', 0.020958083832335328), ('foreign_worker', 0.020958083832335328), ('credit_history', 0.017964071856287456), ('installment_commitment', 0.008982035928143728), ('personal_status', 0.008982035928143728), ('num_dependents', 0.005988023952095856), ('employment', 0.0029940119760479833), ('own_telephone', -0.0029940119760478723)] (10:20:10)\n",
      "Ranking audit files by BCR. (10:20:10)\n",
      "\t[('checking_status', 0.1490449628127113), ('duration', 0.14198782961460443), ('purpose', 0.1266903313049359), ('credit_amount', 0.0941091954022989), ('foreign_worker', 0.06452839756592299), ('existing_credits', 0.05903482082488165), ('property_magnitude', 0.05058316430020293), ('job', 0.042934415145368554), ('age_cat', 0.040187626774847995), ('housing', 0.03156693711967551), ('personal_status', 0.03118661257606492), ('credit_history', 0.02941176470588247), ('savings_status', 0.02882014874915484), ('residence', 0.023326572008113722), ('other_payment_plans', 0.023326572008113722), ('other_parties', 0.020157200811359077), ('num_dependents', 0.009803921568627527), ('employment', 0.007648749154834489), ('installment_commitment', 0.006465517241379337), ('own_telephone', -0.007648749154834267)] (10:20:10)\n",
      "Audit Start Time: 2018-04-18 10:19:08.793747\n",
      "Audit End Time: 2018-04-18 10:20:10.084204\n",
      "Retrained Per Repair: False\n",
      "Model Factory ID: 1524043148.7937472\n",
      "Model Type: DecisionTree\n",
      "Non-standard Model Options: {}\n",
      "Train Size: 666\n",
      "Test Size: 334\n",
      "Non-standard Ignored Features: ['age']\n",
      "Features: ['checking_status', 'duration', 'credit_history', 'purpose', 'credit_amount', 'savings_status', 'employment', 'installment_commitment', 'personal_status', 'other_parties', 'residence', 'property_magnitude', 'age', 'age_cat', 'other_payment_plans', 'housing', 'existing_credits', 'job', 'num_dependents', 'own_telephone', 'foreign_worker', 'class']\n",
      "\n",
      "Ranked Features by accuracy: [('checking_status', 0.06586826347305397), ('credit_amount', 0.06586826347305397), ('duration', 0.05988023952095811), ('purpose', 0.05389221556886237), ('other_parties', 0.050898203592814384), ('property_magnitude', 0.03592814371257491), ('age_cat', 0.03293413173652704), ('job', 0.03293413173652704), ('savings_status', 0.020958083832335328), ('residence', 0.020958083832335328), ('other_payment_plans', 0.020958083832335328), ('housing', 0.020958083832335328), ('existing_credits', 0.020958083832335328), ('foreign_worker', 0.020958083832335328), ('credit_history', 0.017964071856287456), ('installment_commitment', 0.008982035928143728), ('personal_status', 0.008982035928143728), ('num_dependents', 0.005988023952095856), ('employment', 0.0029940119760479833), ('own_telephone', -0.0029940119760478723)]\n",
      "\tApprox. Trend Groups: [['checking_status', 'duration', 'credit_history', 'purpose', 'credit_amount', 'savings_status', 'employment', 'installment_commitment', 'personal_status', 'other_parties', 'residence', 'property_magnitude', 'age_cat', 'other_payment_plans', 'housing', 'existing_credits', 'job', 'num_dependents', 'own_telephone', 'foreign_worker']]\n",
      "\n",
      "Ranked Features by BCR: [('checking_status', 0.1490449628127113), ('duration', 0.14198782961460443), ('purpose', 0.1266903313049359), ('credit_amount', 0.0941091954022989), ('foreign_worker', 0.06452839756592299), ('existing_credits', 0.05903482082488165), ('property_magnitude', 0.05058316430020293), ('job', 0.042934415145368554), ('age_cat', 0.040187626774847995), ('housing', 0.03156693711967551), ('personal_status', 0.03118661257606492), ('credit_history', 0.02941176470588247), ('savings_status', 0.02882014874915484), ('residence', 0.023326572008113722), ('other_payment_plans', 0.023326572008113722), ('other_parties', 0.020157200811359077), ('num_dependents', 0.009803921568627527), ('employment', 0.007648749154834489), ('installment_commitment', 0.006465517241379337), ('own_telephone', -0.007648749154834267)]\n",
      "\tApprox. Trend Groups: [['checking_status', 'duration', 'purpose'], ['credit_amount'], ['credit_history', 'savings_status', 'installment_commitment', 'personal_status', 'residence', 'property_magnitude', 'age_cat', 'other_payment_plans', 'housing', 'existing_credits', 'job', 'num_dependents', 'own_telephone'], ['other_parties'], ['employment'], ['foreign_worker']]\n",
      "\n",
      "Summary file written to: german_audit_output/summary.txt\n",
      " (10:20:10)\n"
     ]
    },
    {
     "ename": "ValueError",
     "evalue": "attempt to assign sequence of size 22 to extended slice of size 11",
     "output_type": "error",
     "traceback": [
      "\u001b[1;31m---------------------------------------------------------------------------\u001b[0m",
      "\u001b[1;31mValueError\u001b[0m                                Traceback (most recent call last)",
      "\u001b[1;32m<ipython-input-1-9f70dc1ba576>\u001b[0m in \u001b[0;36m<module>\u001b[1;34m()\u001b[0m\n\u001b[0;32m     19\u001b[0m \u001b[1;33m\u001b[0m\u001b[0m\n\u001b[0;32m     20\u001b[0m \u001b[1;31m# find contexts of discrimination in dataset\u001b[0m\u001b[1;33m\u001b[0m\u001b[1;33m\u001b[0m\u001b[0m\n\u001b[1;32m---> 21\u001b[1;33m \u001b[0mauditor\u001b[0m\u001b[1;33m.\u001b[0m\u001b[0mfind_contexts\u001b[0m\u001b[1;33m(\u001b[0m\u001b[1;34m\"age_cat\"\u001b[0m\u001b[1;33m,\u001b[0m \u001b[0moutput_dir\u001b[0m\u001b[1;33m=\u001b[0m\u001b[1;34m\"german_context_output\"\u001b[0m\u001b[1;33m)\u001b[0m\u001b[1;33m\u001b[0m\u001b[0m\n\u001b[0m",
      "\u001b[1;32mC:\\Program Files\\Anaconda3\\lib\\site-packages\\BlackBoxAuditing\\BlackBoxAuditor.py\u001b[0m in \u001b[0;36mfind_contexts\u001b[1;34m(self, removed_attr, output_dir, beam_width, min_covered_examples, max_rule_length, by_original, epsilon)\u001b[0m\n\u001b[0;32m    226\u001b[0m     \u001b[0maudit_params\u001b[0m \u001b[1;33m=\u001b[0m \u001b[1;33m(\u001b[0m\u001b[0morig_train\u001b[0m\u001b[1;33m,\u001b[0m \u001b[0morig_test\u001b[0m\u001b[1;33m,\u001b[0m \u001b[0mobscured_test\u001b[0m\u001b[1;33m,\u001b[0m \u001b[0mheaders\u001b[0m\u001b[1;33m,\u001b[0m \u001b[0mresponse_header\u001b[0m\u001b[1;33m,\u001b[0m \u001b[0mfeatures_to_ignore\u001b[0m\u001b[1;33m,\u001b[0m \u001b[0mcorrect_types\u001b[0m\u001b[1;33m,\u001b[0m \u001b[0mobscured_tag\u001b[0m\u001b[1;33m)\u001b[0m\u001b[1;33m\u001b[0m\u001b[0m\n\u001b[0;32m    227\u001b[0m \u001b[1;33m\u001b[0m\u001b[0m\n\u001b[1;32m--> 228\u001b[1;33m     \u001b[0morig_train_tab\u001b[0m\u001b[1;33m,\u001b[0m \u001b[0morig_test_tab\u001b[0m\u001b[1;33m,\u001b[0m \u001b[0mmerged_data\u001b[0m \u001b[1;33m=\u001b[0m \u001b[0mload\u001b[0m\u001b[1;33m(\u001b[0m\u001b[0maudit_params\u001b[0m\u001b[1;33m,\u001b[0m \u001b[0moutput_dir\u001b[0m\u001b[1;33m)\u001b[0m\u001b[1;33m\u001b[0m\u001b[0m\n\u001b[0m\u001b[0;32m    229\u001b[0m \u001b[1;33m\u001b[0m\u001b[0m\n\u001b[0;32m    230\u001b[0m     \u001b[1;31m# run the context_finder\u001b[0m\u001b[1;33m\u001b[0m\u001b[1;33m\u001b[0m\u001b[0m\n",
      "\u001b[1;32mC:\\Program Files\\Anaconda3\\lib\\site-packages\\BlackBoxAuditing\\find_contexts\\load_audit_data.py\u001b[0m in \u001b[0;36mload\u001b[1;34m(audit_params, OUTPUT_DIR)\u001b[0m\n\u001b[0;32m     60\u001b[0m \u001b[1;33m\u001b[0m\u001b[0m\n\u001b[0;32m     61\u001b[0m   \u001b[1;31m# generate merged_data\u001b[0m\u001b[1;33m\u001b[0m\u001b[1;33m\u001b[0m\u001b[0m\n\u001b[1;32m---> 62\u001b[1;33m   \u001b[0mmerged_data\u001b[0m \u001b[1;33m=\u001b[0m \u001b[0mmerge_data\u001b[0m\u001b[1;33m(\u001b[0m\u001b[0morig_test\u001b[0m\u001b[1;33m,\u001b[0m \u001b[0mobscured_test\u001b[0m\u001b[1;33m,\u001b[0m \u001b[0mheaders\u001b[0m\u001b[1;33m,\u001b[0m \u001b[0mobscured_tag\u001b[0m\u001b[1;33m)\u001b[0m\u001b[1;33m\u001b[0m\u001b[0m\n\u001b[0m\u001b[0;32m     63\u001b[0m \u001b[1;33m\u001b[0m\u001b[0m\n\u001b[0;32m     64\u001b[0m   \u001b[1;32mreturn\u001b[0m \u001b[0morig_train_tab\u001b[0m\u001b[1;33m,\u001b[0m \u001b[0morig_test_tab\u001b[0m\u001b[1;33m,\u001b[0m \u001b[0mmerged_data\u001b[0m\u001b[1;33m\u001b[0m\u001b[0m\n",
      "\u001b[1;32mC:\\Program Files\\Anaconda3\\lib\\site-packages\\BlackBoxAuditing\\find_contexts\\load_audit_data.py\u001b[0m in \u001b[0;36mmerge_data\u001b[1;34m(orig_data, obscured_data, header, obscured_tag)\u001b[0m\n\u001b[0;32m     40\u001b[0m     \u001b[0mobscured_row\u001b[0m \u001b[1;33m=\u001b[0m \u001b[0mobscured_data\u001b[0m\u001b[1;33m[\u001b[0m\u001b[0mrow_number\u001b[0m\u001b[1;33m+\u001b[0m\u001b[1;36m1\u001b[0m\u001b[1;33m]\u001b[0m\u001b[1;33m\u001b[0m\u001b[0m\n\u001b[0;32m     41\u001b[0m     \u001b[0mmerged_row\u001b[0m \u001b[1;33m=\u001b[0m \u001b[1;33m[\u001b[0m\u001b[1;32mNone\u001b[0m\u001b[1;33m]\u001b[0m\u001b[1;33m*\u001b[0m\u001b[1;33m(\u001b[0m\u001b[0mlen\u001b[0m\u001b[1;33m(\u001b[0m\u001b[0morig_row\u001b[0m\u001b[1;33m)\u001b[0m\u001b[1;33m+\u001b[0m\u001b[0mlen\u001b[0m\u001b[1;33m(\u001b[0m\u001b[0mobscured_row\u001b[0m\u001b[1;33m)\u001b[0m\u001b[1;33m)\u001b[0m\u001b[1;33m\u001b[0m\u001b[0m\n\u001b[1;32m---> 42\u001b[1;33m     \u001b[0mmerged_row\u001b[0m\u001b[1;33m[\u001b[0m\u001b[1;33m:\u001b[0m\u001b[1;33m:\u001b[0m\u001b[1;36m2\u001b[0m\u001b[1;33m]\u001b[0m \u001b[1;33m=\u001b[0m \u001b[0morig_row\u001b[0m\u001b[1;33m\u001b[0m\u001b[0m\n\u001b[0m\u001b[0;32m     43\u001b[0m     \u001b[0mmerged_row\u001b[0m\u001b[1;33m[\u001b[0m\u001b[1;36m1\u001b[0m\u001b[1;33m:\u001b[0m\u001b[1;33m:\u001b[0m\u001b[1;36m2\u001b[0m\u001b[1;33m]\u001b[0m \u001b[1;33m=\u001b[0m \u001b[0mobscured_row\u001b[0m\u001b[1;33m\u001b[0m\u001b[0m\n\u001b[0;32m     44\u001b[0m     \u001b[0mmerged_data\u001b[0m\u001b[1;33m.\u001b[0m\u001b[0mappend\u001b[0m\u001b[1;33m(\u001b[0m\u001b[0mmerged_row\u001b[0m\u001b[1;33m)\u001b[0m\u001b[1;33m\u001b[0m\u001b[0m\n",
      "\u001b[1;31mValueError\u001b[0m: attempt to assign sequence of size 22 to extended slice of size 11"
     ]
    }
   ],
   "source": [
    "%%python\n",
    "# import BlackBoxAuditing\n",
    "import BlackBoxAuditing as BBA\n",
    "# import machine learning technique\n",
    "from BlackBoxAuditing.model_factories import SVM, DecisionTree, NeuralNetwork\n",
    "\n",
    "\"\"\"\n",
    "Using a preloaded dataset\n",
    "\"\"\"\n",
    "# load in preloaded dataset\n",
    "data = BBA.load_data(\"german\")\n",
    "\n",
    "# initialize the auditor and set parameters\n",
    "auditor = BBA.Auditor()\n",
    "auditor.ModelFactory= SVM\n",
    "\n",
    "# call the auditor with the data\n",
    "auditor(data, output_dir=\"german_audit_output\")\n",
    "\n",
    "# find contexts of discrimination in dataset\n",
    "auditor.find_contexts(\"age_cat\", output_dir=\"german_context_output\")"
   ]
  },
  {
   "cell_type": "code",
   "execution_count": null,
   "metadata": {},
   "outputs": [],
   "source": []
  }
 ],
 "metadata": {
  "hide_input": false,
  "kernelspec": {
   "display_name": "Python 3",
   "language": "python",
   "name": "python3"
  }
 },
 "nbformat": 4,
 "nbformat_minor": 2
}
