{
 "cells": [
  {
   "cell_type": "code",
   "execution_count": 4,
   "metadata": {
    "ExecuteTime": {
     "end_time": "2018-04-18T11:26:30.551062Z",
     "start_time": "2018-04-18T11:26:30.455094Z"
    }
   },
   "outputs": [
    {
     "name": "stdout",
     "output_type": "stream",
     "text": [
      "Switched to directory C:\\Users\\black\\PycharmProjects\\feldman\n",
      "%load_ext autoreload\n",
      "The autoreload extension is already loaded. To reload it, use:\n",
      "  %reload_ext autoreload\n",
      "%autoreload 2\n"
     ]
    }
   ],
   "source": [
    "import blackhc.notebook"
   ]
  },
  {
   "cell_type": "code",
   "execution_count": 50,
   "metadata": {
    "ExecuteTime": {
     "end_time": "2018-04-18T14:08:31.890491Z",
     "start_time": "2018-04-18T14:08:31.804352Z"
    }
   },
   "outputs": [],
   "source": [
    "import pandas as pd\n",
    "import numpy as np\n",
    "import matplotlib.pyplot as plt\n"
   ]
  },
  {
   "cell_type": "code",
   "execution_count": 51,
   "metadata": {
    "ExecuteTime": {
     "end_time": "2018-04-18T14:08:39.882658Z",
     "start_time": "2018-04-18T14:08:39.746663Z"
    }
   },
   "outputs": [],
   "source": [
    "%matplotlib inline"
   ]
  },
  {
   "cell_type": "code",
   "execution_count": 7,
   "metadata": {
    "ExecuteTime": {
     "end_time": "2018-04-18T11:26:59.265178Z",
     "start_time": "2018-04-18T11:26:59.179180Z"
    }
   },
   "outputs": [],
   "source": [
    "data = pd.read_csv('input/german_processed.csv')"
   ]
  },
  {
   "cell_type": "code",
   "execution_count": 99,
   "metadata": {
    "ExecuteTime": {
     "end_time": "2018-04-18T14:35:31.966611Z",
     "start_time": "2018-04-18T14:35:31.870574Z"
    }
   },
   "outputs": [],
   "source": [
    "data = pd.read_csv('input/german_repaired.csv')"
   ]
  },
  {
   "cell_type": "code",
   "execution_count": 100,
   "metadata": {
    "ExecuteTime": {
     "end_time": "2018-04-18T14:35:32.927318Z",
     "start_time": "2018-04-18T14:35:32.808745Z"
    }
   },
   "outputs": [
    {
     "data": {
      "text/html": [
       "<div>\n",
       "<style>\n",
       "    .dataframe thead tr:only-child th {\n",
       "        text-align: right;\n",
       "    }\n",
       "\n",
       "    .dataframe thead th {\n",
       "        text-align: left;\n",
       "    }\n",
       "\n",
       "    .dataframe tbody tr th {\n",
       "        vertical-align: top;\n",
       "    }\n",
       "</style>\n",
       "<table border=\"1\" class=\"dataframe\">\n",
       "  <thead>\n",
       "    <tr style=\"text-align: right;\">\n",
       "      <th></th>\n",
       "      <th>month</th>\n",
       "      <th>credit_amount</th>\n",
       "      <th>investment_as_income_percentage</th>\n",
       "      <th>residence_since</th>\n",
       "      <th>age</th>\n",
       "      <th>number_of_credits</th>\n",
       "      <th>people_liable_for</th>\n",
       "      <th>credit</th>\n",
       "    </tr>\n",
       "  </thead>\n",
       "  <tbody>\n",
       "    <tr>\n",
       "      <th>count</th>\n",
       "      <td>1000.000000</td>\n",
       "      <td>1000.000000</td>\n",
       "      <td>1000.000000</td>\n",
       "      <td>1000.000000</td>\n",
       "      <td>1000.000000</td>\n",
       "      <td>1000.000000</td>\n",
       "      <td>1000.000000</td>\n",
       "      <td>1000.000000</td>\n",
       "    </tr>\n",
       "    <tr>\n",
       "      <th>mean</th>\n",
       "      <td>19.369000</td>\n",
       "      <td>2479.248000</td>\n",
       "      <td>3.109000</td>\n",
       "      <td>2.975000</td>\n",
       "      <td>35.840000</td>\n",
       "      <td>1.401000</td>\n",
       "      <td>1.155000</td>\n",
       "      <td>1.300000</td>\n",
       "    </tr>\n",
       "    <tr>\n",
       "      <th>std</th>\n",
       "      <td>5.494272</td>\n",
       "      <td>754.790563</td>\n",
       "      <td>0.912113</td>\n",
       "      <td>0.922619</td>\n",
       "      <td>11.508381</td>\n",
       "      <td>0.555435</td>\n",
       "      <td>0.362086</td>\n",
       "      <td>0.458487</td>\n",
       "    </tr>\n",
       "    <tr>\n",
       "      <th>min</th>\n",
       "      <td>11.000000</td>\n",
       "      <td>1377.000000</td>\n",
       "      <td>2.000000</td>\n",
       "      <td>2.000000</td>\n",
       "      <td>19.000000</td>\n",
       "      <td>1.000000</td>\n",
       "      <td>1.000000</td>\n",
       "      <td>1.000000</td>\n",
       "    </tr>\n",
       "    <tr>\n",
       "      <th>25%</th>\n",
       "      <td>15.000000</td>\n",
       "      <td>1858.000000</td>\n",
       "      <td>2.000000</td>\n",
       "      <td>2.000000</td>\n",
       "      <td>27.000000</td>\n",
       "      <td>1.000000</td>\n",
       "      <td>1.000000</td>\n",
       "      <td>1.000000</td>\n",
       "    </tr>\n",
       "    <tr>\n",
       "      <th>50%</th>\n",
       "      <td>18.000000</td>\n",
       "      <td>2330.000000</td>\n",
       "      <td>3.000000</td>\n",
       "      <td>3.000000</td>\n",
       "      <td>33.000000</td>\n",
       "      <td>1.000000</td>\n",
       "      <td>1.000000</td>\n",
       "      <td>1.000000</td>\n",
       "    </tr>\n",
       "    <tr>\n",
       "      <th>75%</th>\n",
       "      <td>21.000000</td>\n",
       "      <td>3063.750000</td>\n",
       "      <td>4.000000</td>\n",
       "      <td>4.000000</td>\n",
       "      <td>42.000000</td>\n",
       "      <td>2.000000</td>\n",
       "      <td>1.000000</td>\n",
       "      <td>2.000000</td>\n",
       "    </tr>\n",
       "    <tr>\n",
       "      <th>max</th>\n",
       "      <td>36.000000</td>\n",
       "      <td>4057.000000</td>\n",
       "      <td>4.000000</td>\n",
       "      <td>4.000000</td>\n",
       "      <td>75.000000</td>\n",
       "      <td>3.000000</td>\n",
       "      <td>2.000000</td>\n",
       "      <td>2.000000</td>\n",
       "    </tr>\n",
       "  </tbody>\n",
       "</table>\n",
       "</div>"
      ],
      "text/plain": [
       "             month  credit_amount  investment_as_income_percentage  \\\n",
       "count  1000.000000    1000.000000                      1000.000000   \n",
       "mean     19.369000    2479.248000                         3.109000   \n",
       "std       5.494272     754.790563                         0.912113   \n",
       "min      11.000000    1377.000000                         2.000000   \n",
       "25%      15.000000    1858.000000                         2.000000   \n",
       "50%      18.000000    2330.000000                         3.000000   \n",
       "75%      21.000000    3063.750000                         4.000000   \n",
       "max      36.000000    4057.000000                         4.000000   \n",
       "\n",
       "       residence_since          age  number_of_credits  people_liable_for  \\\n",
       "count      1000.000000  1000.000000        1000.000000        1000.000000   \n",
       "mean          2.975000    35.840000           1.401000           1.155000   \n",
       "std           0.922619    11.508381           0.555435           0.362086   \n",
       "min           2.000000    19.000000           1.000000           1.000000   \n",
       "25%           2.000000    27.000000           1.000000           1.000000   \n",
       "50%           3.000000    33.000000           1.000000           1.000000   \n",
       "75%           4.000000    42.000000           2.000000           1.000000   \n",
       "max           4.000000    75.000000           3.000000           2.000000   \n",
       "\n",
       "            credit  \n",
       "count  1000.000000  \n",
       "mean      1.300000  \n",
       "std       0.458487  \n",
       "min       1.000000  \n",
       "25%       1.000000  \n",
       "50%       1.000000  \n",
       "75%       2.000000  \n",
       "max       2.000000  "
      ]
     },
     "execution_count": 100,
     "metadata": {},
     "output_type": "execute_result"
    }
   ],
   "source": [
    "data.describe()"
   ]
  },
  {
   "cell_type": "code",
   "execution_count": 101,
   "metadata": {
    "ExecuteTime": {
     "end_time": "2018-04-18T14:35:36.945077Z",
     "start_time": "2018-04-18T14:35:36.847060Z"
    }
   },
   "outputs": [],
   "source": [
    "one_hot_data = pd.get_dummies(data)"
   ]
  },
  {
   "cell_type": "code",
   "execution_count": 102,
   "metadata": {
    "ExecuteTime": {
     "end_time": "2018-04-18T14:35:37.423173Z",
     "start_time": "2018-04-18T14:35:37.322164Z"
    }
   },
   "outputs": [
    {
     "data": {
      "text/plain": [
       "month                              int64\n",
       "credit_amount                      int64\n",
       "investment_as_income_percentage    int64\n",
       "residence_since                    int64\n",
       "age                                int64\n",
       "number_of_credits                  int64\n",
       "people_liable_for                  int64\n",
       "credit                             int64\n",
       "status_A11                         uint8\n",
       "status_A12                         uint8\n",
       "status_A13                         uint8\n",
       "status_A14                         uint8\n",
       "credit_history_A30                 uint8\n",
       "credit_history_A31                 uint8\n",
       "credit_history_A32                 uint8\n",
       "credit_history_A33                 uint8\n",
       "credit_history_A34                 uint8\n",
       "purpose_A40                        uint8\n",
       "purpose_A41                        uint8\n",
       "purpose_A410                       uint8\n",
       "purpose_A42                        uint8\n",
       "purpose_A43                        uint8\n",
       "purpose_A44                        uint8\n",
       "purpose_A45                        uint8\n",
       "purpose_A46                        uint8\n",
       "purpose_A48                        uint8\n",
       "purpose_A49                        uint8\n",
       "savings_A61                        uint8\n",
       "savings_A62                        uint8\n",
       "savings_A63                        uint8\n",
       "savings_A64                        uint8\n",
       "savings_A65                        uint8\n",
       "employment_A71                     uint8\n",
       "employment_A72                     uint8\n",
       "employment_A73                     uint8\n",
       "employment_A74                     uint8\n",
       "employment_A75                     uint8\n",
       "sex_female                         uint8\n",
       "sex_male                           uint8\n",
       "other_debtors_A101                 uint8\n",
       "other_debtors_A102                 uint8\n",
       "other_debtors_A103                 uint8\n",
       "property_A121                      uint8\n",
       "property_A122                      uint8\n",
       "property_A123                      uint8\n",
       "property_A124                      uint8\n",
       "installment_plans_A141             uint8\n",
       "installment_plans_A142             uint8\n",
       "installment_plans_A143             uint8\n",
       "housing_A151                       uint8\n",
       "housing_A152                       uint8\n",
       "housing_A153                       uint8\n",
       "skill_level_A171                   uint8\n",
       "skill_level_A172                   uint8\n",
       "skill_level_A173                   uint8\n",
       "skill_level_A174                   uint8\n",
       "telephone_A191                     uint8\n",
       "telephone_A192                     uint8\n",
       "foreign_worker_A201                uint8\n",
       "foreign_worker_A202                uint8\n",
       "dtype: object"
      ]
     },
     "execution_count": 102,
     "metadata": {},
     "output_type": "execute_result"
    }
   ],
   "source": [
    "one_hot_data.dtypes"
   ]
  },
  {
   "cell_type": "code",
   "execution_count": 103,
   "metadata": {
    "ExecuteTime": {
     "end_time": "2018-04-18T14:35:40.560815Z",
     "start_time": "2018-04-18T14:35:40.472766Z"
    }
   },
   "outputs": [],
   "source": [
    "from sklearn import linear_model"
   ]
  },
  {
   "cell_type": "code",
   "execution_count": 104,
   "metadata": {
    "ExecuteTime": {
     "end_time": "2018-04-18T14:35:40.894760Z",
     "start_time": "2018-04-18T14:35:40.799751Z"
    }
   },
   "outputs": [],
   "source": [
    "logistic = linear_model.LogisticRegression()\n"
   ]
  },
  {
   "cell_type": "code",
   "execution_count": 105,
   "metadata": {
    "ExecuteTime": {
     "end_time": "2018-04-18T14:35:41.454126Z",
     "start_time": "2018-04-18T14:35:41.361600Z"
    }
   },
   "outputs": [],
   "source": [
    "age_X = one_hot_data[one_hot_data.columns.difference(['credit', 'sex_male', 'sex_female'])]"
   ]
  },
  {
   "cell_type": "code",
   "execution_count": 106,
   "metadata": {
    "ExecuteTime": {
     "end_time": "2018-04-18T14:35:41.893625Z",
     "start_time": "2018-04-18T14:35:41.799680Z"
    }
   },
   "outputs": [],
   "source": [
    "age_Y = one_hot_data['sex_male']"
   ]
  },
  {
   "cell_type": "code",
   "execution_count": 107,
   "metadata": {
    "ExecuteTime": {
     "end_time": "2018-04-18T14:35:44.831894Z",
     "start_time": "2018-04-18T14:35:44.734866Z"
    }
   },
   "outputs": [
    {
     "data": {
      "text/plain": [
       "LogisticRegression(C=1.0, class_weight=None, dual=False, fit_intercept=True,\n",
       "          intercept_scaling=1, max_iter=100, multi_class='ovr', n_jobs=1,\n",
       "          penalty='l2', random_state=None, solver='liblinear', tol=0.0001,\n",
       "          verbose=0, warm_start=False)"
      ]
     },
     "execution_count": 107,
     "metadata": {},
     "output_type": "execute_result"
    }
   ],
   "source": [
    "logistic.fit(age_X, age_Y)"
   ]
  },
  {
   "cell_type": "code",
   "execution_count": null,
   "metadata": {
    "collapsed": true
   },
   "outputs": [],
   "source": []
  },
  {
   "cell_type": "code",
   "execution_count": 125,
   "metadata": {
    "ExecuteTime": {
     "end_time": "2018-04-18T14:40:43.517856Z",
     "start_time": "2018-04-18T14:40:43.401688Z"
    }
   },
   "outputs": [
    {
     "data": {
      "text/plain": [
       "array([1, 1, 1, 1, 1, 1, 1, 1, 1, 1, 1, 1, 1, 1, 1, 1, 1, 1, 1, 1, 1, 1,\n",
       "       1, 1, 1, 1, 1, 1, 1, 1, 1, 1, 1, 1, 1, 1, 1, 1, 1, 1, 1, 1, 1, 1,\n",
       "       1, 1, 1, 1, 1, 1, 1, 1, 1, 1, 1, 1, 1, 1, 1, 1, 1, 1, 1, 1, 1, 1,\n",
       "       1, 1, 1, 1, 1, 1, 1, 1, 1, 1, 1, 1, 1, 1, 1, 1, 1, 1, 1, 1, 1, 1,\n",
       "       1, 1, 1, 1, 1, 1, 1, 1, 1, 1, 1, 1, 1, 1, 1, 1, 1, 1, 1, 1, 1, 1,\n",
       "       1, 1, 1, 1, 1, 1, 1, 1, 1, 1, 1, 1, 1, 1, 1, 1, 1, 1, 1, 1, 1, 1,\n",
       "       1, 1, 1, 1, 1, 1, 1, 1, 1, 1, 1, 1, 1, 1, 1, 1, 1, 1, 1, 1, 1, 1,\n",
       "       1, 1, 1, 1, 1, 1, 1, 1, 1, 1, 1, 1, 1, 1, 1, 1, 1, 1, 1, 1, 1, 1,\n",
       "       1, 1, 1, 1, 1, 1, 1, 1, 1, 1, 1, 1, 1, 1, 1, 1, 1, 1, 1, 1, 1, 1,\n",
       "       1, 1, 1, 1, 1, 1, 1, 1, 1, 1, 1, 1, 1, 1, 1, 1, 1, 1, 1, 1, 1, 1,\n",
       "       1, 1, 1, 1, 1, 1, 1, 1, 1, 1, 1, 1, 1, 1, 1, 1, 1, 1, 1, 1, 1, 1,\n",
       "       1, 1, 1, 1, 1, 1, 1, 1, 1, 1, 1, 1, 1, 1, 1, 1, 1, 1, 1, 1, 1, 1,\n",
       "       1, 1, 1, 1, 1, 1, 1, 1, 1, 1, 1, 1, 1, 1, 1, 1, 1, 1, 1, 1, 1, 1,\n",
       "       1, 1, 1, 1, 1, 1, 1, 1, 1, 1, 1, 1, 1, 1, 1, 1, 1, 1, 1, 1, 1, 1,\n",
       "       1, 1, 1, 1, 1, 1, 1, 1, 1, 1, 1, 1, 1, 1, 1, 1, 1, 1, 1, 1, 1, 1,\n",
       "       1, 1, 1, 1, 1, 1, 1, 1, 1, 1, 1, 1, 1, 1, 1, 1, 1, 1, 1, 1, 0, 1,\n",
       "       1, 1, 1, 1, 1, 1, 1, 1, 1, 1, 1, 1, 1, 1, 1, 1, 1, 1, 1, 1, 1, 1,\n",
       "       1, 1, 1, 1, 1, 1, 1, 1, 1, 1, 1, 1, 1, 1, 1, 1, 1, 0, 1, 1, 1, 1,\n",
       "       1, 1, 1, 1, 1, 1, 1, 1, 1, 1, 1, 1, 1, 1, 1, 1, 1, 1, 1, 1, 1, 1,\n",
       "       1, 1, 1, 1, 1, 1, 1, 1, 1, 1, 1, 1, 1, 1, 1, 1, 1, 1, 0, 1, 1, 1,\n",
       "       1, 1, 1, 1, 1, 1, 1, 1, 1, 1, 1, 1, 1, 1, 1, 1, 1, 1, 1, 1, 1, 1,\n",
       "       1, 1, 1, 1, 1, 1, 1, 1, 1, 1, 1, 1, 1, 0, 1, 1, 1, 1, 1, 1, 1, 1,\n",
       "       1, 1, 1, 1, 1, 1, 1, 1, 1, 1, 1, 1, 1, 1, 1, 1, 1, 1, 1, 1, 1, 1,\n",
       "       1, 1, 1, 1, 1, 1, 1, 1, 1, 1, 1, 1, 1, 1, 1, 1, 1, 1, 1, 1, 1, 1,\n",
       "       1, 1, 1, 1, 1, 1, 1, 1, 1, 1, 1, 1, 1, 1, 1, 1, 1, 1, 1, 1, 1, 1,\n",
       "       1, 1, 1, 1, 1, 1, 1, 1, 1, 1, 1, 1, 1, 1, 1, 1, 1, 1, 1, 1, 1, 1,\n",
       "       1, 1, 1, 1, 1, 1, 1, 1, 1, 1, 1, 1, 1, 1, 1, 1, 1, 1, 1, 1, 1, 0,\n",
       "       1, 1, 1, 1, 1, 1, 1, 1, 1, 1, 1, 1, 1, 1, 1, 1, 1, 1, 1, 1, 1, 1,\n",
       "       1, 1, 1, 1, 1, 1, 1, 1, 1, 1, 1, 1, 1, 1, 1, 1, 1, 1, 1, 1, 1, 1,\n",
       "       1, 1, 1, 1, 1, 1, 1, 1, 1, 1, 1, 1, 1, 1, 1, 1, 1, 1, 1, 1, 1, 1,\n",
       "       1, 1, 1, 1, 1, 1, 1, 1, 1, 1, 1, 1, 1, 1, 1, 1, 1, 1, 1, 1, 1, 1,\n",
       "       1, 1, 1, 1, 1, 1, 1, 1, 1, 1, 1, 1, 1, 1, 1, 1, 1, 1, 1, 1, 1, 1,\n",
       "       1, 1, 1, 1, 1, 1, 1, 1, 1, 1, 1, 1, 1, 1, 1, 1, 1, 1, 1, 1, 1, 1,\n",
       "       1, 1, 1, 1, 1, 1, 1, 1, 1, 1, 1, 1, 1, 1, 1, 1, 1, 1, 1, 1, 0, 1,\n",
       "       1, 1, 1, 1, 1, 1, 1, 1, 1, 1, 1, 1, 1, 1, 1, 1, 1, 1, 1, 1, 1, 1,\n",
       "       1, 1, 1, 1, 1, 1, 1, 1, 1, 1, 1, 1, 1, 1, 1, 1, 1, 1, 1, 1, 1, 1,\n",
       "       1, 1, 1, 0, 1, 0, 1, 1, 1, 1, 1, 1, 1, 1, 1, 1, 1, 1, 1, 1, 1, 1,\n",
       "       1, 1, 1, 1, 1, 1, 1, 1, 1, 1, 1, 1, 1, 1, 1, 1, 1, 1, 1, 1, 1, 1,\n",
       "       1, 1, 1, 1, 1, 1, 1, 1, 1, 1, 1, 1, 1, 1, 1, 1, 1, 1, 1, 1, 1, 1,\n",
       "       1, 1, 1, 1, 1, 1, 1, 1, 1, 1, 1, 1, 1, 1, 1, 1, 1, 1, 1, 1, 1, 1,\n",
       "       1, 1, 1, 1, 1, 1, 1, 1, 1, 1, 1, 1, 1, 1, 1, 1, 1, 1, 1, 1, 1, 1,\n",
       "       1, 1, 1, 1, 1, 1, 1, 1, 1, 1, 1, 1, 1, 1, 1, 1, 1, 1, 1, 1, 1, 1,\n",
       "       1, 1, 1, 1, 1, 1, 1, 1, 1, 1, 1, 1, 1, 1, 1, 1, 1, 1, 1, 1, 1, 1,\n",
       "       1, 1, 1, 1, 1, 1, 1, 1, 1, 1, 1, 1, 1, 1, 1, 1, 1, 1, 1, 1, 1, 1,\n",
       "       1, 1, 1, 1, 1, 1, 1, 1, 1, 1, 1, 1, 1, 1, 1, 1, 1, 1, 1, 1, 1, 1,\n",
       "       1, 1, 1, 1, 1, 1, 1, 1, 1, 1], dtype=uint8)"
      ]
     },
     "execution_count": 125,
     "metadata": {},
     "output_type": "execute_result"
    }
   ],
   "source": [
    "logistic.predict(age_X)"
   ]
  },
  {
   "cell_type": "code",
   "execution_count": 120,
   "metadata": {
    "ExecuteTime": {
     "end_time": "2018-04-18T14:39:04.036013Z",
     "start_time": "2018-04-18T14:39:03.911955Z"
    }
   },
   "outputs": [
    {
     "data": {
      "text/plain": [
       "0.731"
      ]
     },
     "execution_count": 120,
     "metadata": {},
     "output_type": "execute_result"
    }
   ],
   "source": [
    "logistic.score(age_X, age_Y)"
   ]
  },
  {
   "cell_type": "code",
   "execution_count": 109,
   "metadata": {
    "ExecuteTime": {
     "end_time": "2018-04-18T14:35:46.709879Z",
     "start_time": "2018-04-18T14:35:46.613919Z"
    }
   },
   "outputs": [],
   "source": [
    "p1 = np.matmul(age_X, logistic.coef_.T) - logistic.intercept_"
   ]
  },
  {
   "cell_type": "code",
   "execution_count": 119,
   "metadata": {
    "ExecuteTime": {
     "end_time": "2018-04-18T14:38:57.787008Z",
     "start_time": "2018-04-18T14:38:57.686564Z"
    }
   },
   "outputs": [
    {
     "data": {
      "text/plain": [
       "array([-0.18420355])"
      ]
     },
     "execution_count": 119,
     "metadata": {},
     "output_type": "execute_result"
    }
   ],
   "source": [
    "logistic.intercept_"
   ]
  },
  {
   "cell_type": "code",
   "execution_count": 110,
   "metadata": {
    "ExecuteTime": {
     "end_time": "2018-04-18T14:35:47.282501Z",
     "start_time": "2018-04-18T14:35:47.094536Z"
    }
   },
   "outputs": [
    {
     "data": {
      "text/plain": [
       "[<matplotlib.lines.Line2D at 0x268497f9198>]"
      ]
     },
     "execution_count": 110,
     "metadata": {},
     "output_type": "execute_result"
    },
    {
     "data": {
      "image/png": "[encoded data removed]",
      "text/plain": [
       "<matplotlib.figure.Figure at 0x268497bd8d0>"
      ]
     },
     "metadata": {},
     "output_type": "display_data"
    }
   ],
   "source": [
    "plt.plot(p1, np.zeros_like(p1), 'x')"
   ]
  },
  {
   "cell_type": "code",
   "execution_count": 111,
   "metadata": {
    "ExecuteTime": {
     "end_time": "2018-04-18T14:35:49.056742Z",
     "start_time": "2018-04-18T14:35:48.954731Z"
    }
   },
   "outputs": [],
   "source": [
    "p_rest = age_X - logistic.coef_ * p1 / np.linalg.norm(logistic.coef_)**2"
   ]
  },
  {
   "cell_type": "code",
   "execution_count": 117,
   "metadata": {
    "ExecuteTime": {
     "end_time": "2018-04-18T14:38:08.432919Z",
     "start_time": "2018-04-18T14:38:08.305995Z"
    }
   },
   "outputs": [
    {
     "data": {
      "text/plain": [
       "array([[-0.18420355],\n",
       "       [-0.18420355],\n",
       "       [-0.18420355],\n",
       "       [-0.18420355],\n",
       "       [-0.18420355],\n",
       "       [-0.18420355],\n",
       "       [-0.18420355],\n",
       "       [-0.18420355],\n",
       "       [-0.18420355],\n",
       "       [-0.18420355],\n",
       "       [-0.18420355],\n",
       "       [-0.18420355],\n",
       "       [-0.18420355],\n",
       "       [-0.18420355],\n",
       "       [-0.18420355],\n",
       "       [-0.18420355],\n",
       "       [-0.18420355],\n",
       "       [-0.18420355],\n",
       "       [-0.18420355],\n",
       "       [-0.18420355],\n",
       "       [-0.18420355],\n",
       "       [-0.18420355],\n",
       "       [-0.18420355],\n",
       "       [-0.18420355],\n",
       "       [-0.18420355],\n",
       "       [-0.18420355],\n",
       "       [-0.18420355],\n",
       "       [-0.18420355],\n",
       "       [-0.18420355],\n",
       "       [-0.18420355],\n",
       "       [-0.18420355],\n",
       "       [-0.18420355],\n",
       "       [-0.18420355],\n",
       "       [-0.18420355],\n",
       "       [-0.18420355],\n",
       "       [-0.18420355],\n",
       "       [-0.18420355],\n",
       "       [-0.18420355],\n",
       "       [-0.18420355],\n",
       "       [-0.18420355],\n",
       "       [-0.18420355],\n",
       "       [-0.18420355],\n",
       "       [-0.18420355],\n",
       "       [-0.18420355],\n",
       "       [-0.18420355],\n",
       "       [-0.18420355],\n",
       "       [-0.18420355],\n",
       "       [-0.18420355],\n",
       "       [-0.18420355],\n",
       "       [-0.18420355],\n",
       "       [-0.18420355],\n",
       "       [-0.18420355],\n",
       "       [-0.18420355],\n",
       "       [-0.18420355],\n",
       "       [-0.18420355],\n",
       "       [-0.18420355],\n",
       "       [-0.18420355],\n",
       "       [-0.18420355],\n",
       "       [-0.18420355],\n",
       "       [-0.18420355],\n",
       "       [-0.18420355],\n",
       "       [-0.18420355],\n",
       "       [-0.18420355],\n",
       "       [-0.18420355],\n",
       "       [-0.18420355],\n",
       "       [-0.18420355],\n",
       "       [-0.18420355],\n",
       "       [-0.18420355],\n",
       "       [-0.18420355],\n",
       "       [-0.18420355],\n",
       "       [-0.18420355],\n",
       "       [-0.18420355],\n",
       "       [-0.18420355],\n",
       "       [-0.18420355],\n",
       "       [-0.18420355],\n",
       "       [-0.18420355],\n",
       "       [-0.18420355],\n",
       "       [-0.18420355],\n",
       "       [-0.18420355],\n",
       "       [-0.18420355],\n",
       "       [-0.18420355],\n",
       "       [-0.18420355],\n",
       "       [-0.18420355],\n",
       "       [-0.18420355],\n",
       "       [-0.18420355],\n",
       "       [-0.18420355],\n",
       "       [-0.18420355],\n",
       "       [-0.18420355],\n",
       "       [-0.18420355],\n",
       "       [-0.18420355],\n",
       "       [-0.18420355],\n",
       "       [-0.18420355],\n",
       "       [-0.18420355],\n",
       "       [-0.18420355],\n",
       "       [-0.18420355],\n",
       "       [-0.18420355],\n",
       "       [-0.18420355],\n",
       "       [-0.18420355],\n",
       "       [-0.18420355],\n",
       "       [-0.18420355],\n",
       "       [-0.18420355],\n",
       "       [-0.18420355],\n",
       "       [-0.18420355],\n",
       "       [-0.18420355],\n",
       "       [-0.18420355],\n",
       "       [-0.18420355],\n",
       "       [-0.18420355],\n",
       "       [-0.18420355],\n",
       "       [-0.18420355],\n",
       "       [-0.18420355],\n",
       "       [-0.18420355],\n",
       "       [-0.18420355],\n",
       "       [-0.18420355],\n",
       "       [-0.18420355],\n",
       "       [-0.18420355],\n",
       "       [-0.18420355],\n",
       "       [-0.18420355],\n",
       "       [-0.18420355],\n",
       "       [-0.18420355],\n",
       "       [-0.18420355],\n",
       "       [-0.18420355],\n",
       "       [-0.18420355],\n",
       "       [-0.18420355],\n",
       "       [-0.18420355],\n",
       "       [-0.18420355],\n",
       "       [-0.18420355],\n",
       "       [-0.18420355],\n",
       "       [-0.18420355],\n",
       "       [-0.18420355],\n",
       "       [-0.18420355],\n",
       "       [-0.18420355],\n",
       "       [-0.18420355],\n",
       "       [-0.18420355],\n",
       "       [-0.18420355],\n",
       "       [-0.18420355],\n",
       "       [-0.18420355],\n",
       "       [-0.18420355],\n",
       "       [-0.18420355],\n",
       "       [-0.18420355],\n",
       "       [-0.18420355],\n",
       "       [-0.18420355],\n",
       "       [-0.18420355],\n",
       "       [-0.18420355],\n",
       "       [-0.18420355],\n",
       "       [-0.18420355],\n",
       "       [-0.18420355],\n",
       "       [-0.18420355],\n",
       "       [-0.18420355],\n",
       "       [-0.18420355],\n",
       "       [-0.18420355],\n",
       "       [-0.18420355],\n",
       "       [-0.18420355],\n",
       "       [-0.18420355],\n",
       "       [-0.18420355],\n",
       "       [-0.18420355],\n",
       "       [-0.18420355],\n",
       "       [-0.18420355],\n",
       "       [-0.18420355],\n",
       "       [-0.18420355],\n",
       "       [-0.18420355],\n",
       "       [-0.18420355],\n",
       "       [-0.18420355],\n",
       "       [-0.18420355],\n",
       "       [-0.18420355],\n",
       "       [-0.18420355],\n",
       "       [-0.18420355],\n",
       "       [-0.18420355],\n",
       "       [-0.18420355],\n",
       "       [-0.18420355],\n",
       "       [-0.18420355],\n",
       "       [-0.18420355],\n",
       "       [-0.18420355],\n",
       "       [-0.18420355],\n",
       "       [-0.18420355],\n",
       "       [-0.18420355],\n",
       "       [-0.18420355],\n",
       "       [-0.18420355],\n",
       "       [-0.18420355],\n",
       "       [-0.18420355],\n",
       "       [-0.18420355],\n",
       "       [-0.18420355],\n",
       "       [-0.18420355],\n",
       "       [-0.18420355],\n",
       "       [-0.18420355],\n",
       "       [-0.18420355],\n",
       "       [-0.18420355],\n",
       "       [-0.18420355],\n",
       "       [-0.18420355],\n",
       "       [-0.18420355],\n",
       "       [-0.18420355],\n",
       "       [-0.18420355],\n",
       "       [-0.18420355],\n",
       "       [-0.18420355],\n",
       "       [-0.18420355],\n",
       "       [-0.18420355],\n",
       "       [-0.18420355],\n",
       "       [-0.18420355],\n",
       "       [-0.18420355],\n",
       "       [-0.18420355],\n",
       "       [-0.18420355],\n",
       "       [-0.18420355],\n",
       "       [-0.18420355],\n",
       "       [-0.18420355],\n",
       "       [-0.18420355],\n",
       "       [-0.18420355],\n",
       "       [-0.18420355],\n",
       "       [-0.18420355],\n",
       "       [-0.18420355],\n",
       "       [-0.18420355],\n",
       "       [-0.18420355],\n",
       "       [-0.18420355],\n",
       "       [-0.18420355],\n",
       "       [-0.18420355],\n",
       "       [-0.18420355],\n",
       "       [-0.18420355],\n",
       "       [-0.18420355],\n",
       "       [-0.18420355],\n",
       "       [-0.18420355],\n",
       "       [-0.18420355],\n",
       "       [-0.18420355],\n",
       "       [-0.18420355],\n",
       "       [-0.18420355],\n",
       "       [-0.18420355],\n",
       "       [-0.18420355],\n",
       "       [-0.18420355],\n",
       "       [-0.18420355],\n",
       "       [-0.18420355],\n",
       "       [-0.18420355],\n",
       "       [-0.18420355],\n",
       "       [-0.18420355],\n",
       "       [-0.18420355],\n",
       "       [-0.18420355],\n",
       "       [-0.18420355],\n",
       "       [-0.18420355],\n",
       "       [-0.18420355],\n",
       "       [-0.18420355],\n",
       "       [-0.18420355],\n",
       "       [-0.18420355],\n",
       "       [-0.18420355],\n",
       "       [-0.18420355],\n",
       "       [-0.18420355],\n",
       "       [-0.18420355],\n",
       "       [-0.18420355],\n",
       "       [-0.18420355],\n",
       "       [-0.18420355],\n",
       "       [-0.18420355],\n",
       "       [-0.18420355],\n",
       "       [-0.18420355],\n",
       "       [-0.18420355],\n",
       "       [-0.18420355],\n",
       "       [-0.18420355],\n",
       "       [-0.18420355],\n",
       "       [-0.18420355],\n",
       "       [-0.18420355],\n",
       "       [-0.18420355],\n",
       "       [-0.18420355],\n",
       "       [-0.18420355],\n",
       "       [-0.18420355],\n",
       "       [-0.18420355],\n",
       "       [-0.18420355],\n",
       "       [-0.18420355],\n",
       "       [-0.18420355],\n",
       "       [-0.18420355],\n",
       "       [-0.18420355],\n",
       "       [-0.18420355],\n",
       "       [-0.18420355],\n",
       "       [-0.18420355],\n",
       "       [-0.18420355],\n",
       "       [-0.18420355],\n",
       "       [-0.18420355],\n",
       "       [-0.18420355],\n",
       "       [-0.18420355],\n",
       "       [-0.18420355],\n",
       "       [-0.18420355],\n",
       "       [-0.18420355],\n",
       "       [-0.18420355],\n",
       "       [-0.18420355],\n",
       "       [-0.18420355],\n",
       "       [-0.18420355],\n",
       "       [-0.18420355],\n",
       "       [-0.18420355],\n",
       "       [-0.18420355],\n",
       "       [-0.18420355],\n",
       "       [-0.18420355],\n",
       "       [-0.18420355],\n",
       "       [-0.18420355],\n",
       "       [-0.18420355],\n",
       "       [-0.18420355],\n",
       "       [-0.18420355],\n",
       "       [-0.18420355],\n",
       "       [-0.18420355],\n",
       "       [-0.18420355],\n",
       "       [-0.18420355],\n",
       "       [-0.18420355],\n",
       "       [-0.18420355],\n",
       "       [-0.18420355],\n",
       "       [-0.18420355],\n",
       "       [-0.18420355],\n",
       "       [-0.18420355],\n",
       "       [-0.18420355],\n",
       "       [-0.18420355],\n",
       "       [-0.18420355],\n",
       "       [-0.18420355],\n",
       "       [-0.18420355],\n",
       "       [-0.18420355],\n",
       "       [-0.18420355],\n",
       "       [-0.18420355],\n",
       "       [-0.18420355],\n",
       "       [-0.18420355],\n",
       "       [-0.18420355],\n",
       "       [-0.18420355],\n",
       "       [-0.18420355],\n",
       "       [-0.18420355],\n",
       "       [-0.18420355],\n",
       "       [-0.18420355],\n",
       "       [-0.18420355],\n",
       "       [-0.18420355],\n",
       "       [-0.18420355],\n",
       "       [-0.18420355],\n",
       "       [-0.18420355],\n",
       "       [-0.18420355],\n",
       "       [-0.18420355],\n",
       "       [-0.18420355],\n",
       "       [-0.18420355],\n",
       "       [-0.18420355],\n",
       "       [-0.18420355],\n",
       "       [-0.18420355],\n",
       "       [-0.18420355],\n",
       "       [-0.18420355],\n",
       "       [-0.18420355],\n",
       "       [-0.18420355],\n",
       "       [-0.18420355],\n",
       "       [-0.18420355],\n",
       "       [-0.18420355],\n",
       "       [-0.18420355],\n",
       "       [-0.18420355],\n",
       "       [-0.18420355],\n",
       "       [-0.18420355],\n",
       "       [-0.18420355],\n",
       "       [-0.18420355],\n",
       "       [-0.18420355],\n",
       "       [-0.18420355],\n",
       "       [-0.18420355],\n",
       "       [-0.18420355],\n",
       "       [-0.18420355],\n",
       "       [-0.18420355],\n",
       "       [-0.18420355],\n",
       "       [-0.18420355],\n",
       "       [-0.18420355],\n",
       "       [-0.18420355],\n",
       "       [-0.18420355],\n",
       "       [-0.18420355],\n",
       "       [-0.18420355],\n",
       "       [-0.18420355],\n",
       "       [-0.18420355],\n",
       "       [-0.18420355],\n",
       "       [-0.18420355],\n",
       "       [-0.18420355],\n",
       "       [-0.18420355],\n",
       "       [-0.18420355],\n",
       "       [-0.18420355],\n",
       "       [-0.18420355],\n",
       "       [-0.18420355],\n",
       "       [-0.18420355],\n",
       "       [-0.18420355],\n",
       "       [-0.18420355],\n",
       "       [-0.18420355],\n",
       "       [-0.18420355],\n",
       "       [-0.18420355],\n",
       "       [-0.18420355],\n",
       "       [-0.18420355],\n",
       "       [-0.18420355],\n",
       "       [-0.18420355],\n",
       "       [-0.18420355],\n",
       "       [-0.18420355],\n",
       "       [-0.18420355],\n",
       "       [-0.18420355],\n",
       "       [-0.18420355],\n",
       "       [-0.18420355],\n",
       "       [-0.18420355],\n",
       "       [-0.18420355],\n",
       "       [-0.18420355],\n",
       "       [-0.18420355],\n",
       "       [-0.18420355],\n",
       "       [-0.18420355],\n",
       "       [-0.18420355],\n",
       "       [-0.18420355],\n",
       "       [-0.18420355],\n",
       "       [-0.18420355],\n",
       "       [-0.18420355],\n",
       "       [-0.18420355],\n",
       "       [-0.18420355],\n",
       "       [-0.18420355],\n",
       "       [-0.18420355],\n",
       "       [-0.18420355],\n",
       "       [-0.18420355],\n",
       "       [-0.18420355],\n",
       "       [-0.18420355],\n",
       "       [-0.18420355],\n",
       "       [-0.18420355],\n",
       "       [-0.18420355],\n",
       "       [-0.18420355],\n",
       "       [-0.18420355],\n",
       "       [-0.18420355],\n",
       "       [-0.18420355],\n",
       "       [-0.18420355],\n",
       "       [-0.18420355],\n",
       "       [-0.18420355],\n",
       "       [-0.18420355],\n",
       "       [-0.18420355],\n",
       "       [-0.18420355],\n",
       "       [-0.18420355],\n",
       "       [-0.18420355],\n",
       "       [-0.18420355],\n",
       "       [-0.18420355],\n",
       "       [-0.18420355],\n",
       "       [-0.18420355],\n",
       "       [-0.18420355],\n",
       "       [-0.18420355],\n",
       "       [-0.18420355],\n",
       "       [-0.18420355],\n",
       "       [-0.18420355],\n",
       "       [-0.18420355],\n",
       "       [-0.18420355],\n",
       "       [-0.18420355],\n",
       "       [-0.18420355],\n",
       "       [-0.18420355],\n",
       "       [-0.18420355],\n",
       "       [-0.18420355],\n",
       "       [-0.18420355],\n",
       "       [-0.18420355],\n",
       "       [-0.18420355],\n",
       "       [-0.18420355],\n",
       "       [-0.18420355],\n",
       "       [-0.18420355],\n",
       "       [-0.18420355],\n",
       "       [-0.18420355],\n",
       "       [-0.18420355],\n",
       "       [-0.18420355],\n",
       "       [-0.18420355],\n",
       "       [-0.18420355],\n",
       "       [-0.18420355],\n",
       "       [-0.18420355],\n",
       "       [-0.18420355],\n",
       "       [-0.18420355],\n",
       "       [-0.18420355],\n",
       "       [-0.18420355],\n",
       "       [-0.18420355],\n",
       "       [-0.18420355],\n",
       "       [-0.18420355],\n",
       "       [-0.18420355],\n",
       "       [-0.18420355],\n",
       "       [-0.18420355],\n",
       "       [-0.18420355],\n",
       "       [-0.18420355],\n",
       "       [-0.18420355],\n",
       "       [-0.18420355],\n",
       "       [-0.18420355],\n",
       "       [-0.18420355],\n",
       "       [-0.18420355],\n",
       "       [-0.18420355],\n",
       "       [-0.18420355],\n",
       "       [-0.18420355],\n",
       "       [-0.18420355],\n",
       "       [-0.18420355],\n",
       "       [-0.18420355],\n",
       "       [-0.18420355],\n",
       "       [-0.18420355],\n",
       "       [-0.18420355],\n",
       "       [-0.18420355],\n",
       "       [-0.18420355],\n",
       "       [-0.18420355],\n",
       "       [-0.18420355],\n",
       "       [-0.18420355],\n",
       "       [-0.18420355],\n",
       "       [-0.18420355],\n",
       "       [-0.18420355],\n",
       "       [-0.18420355],\n",
       "       [-0.18420355],\n",
       "       [-0.18420355],\n",
       "       [-0.18420355],\n",
       "       [-0.18420355],\n",
       "       [-0.18420355],\n",
       "       [-0.18420355],\n",
       "       [-0.18420355],\n",
       "       [-0.18420355],\n",
       "       [-0.18420355],\n",
       "       [-0.18420355],\n",
       "       [-0.18420355],\n",
       "       [-0.18420355],\n",
       "       [-0.18420355],\n",
       "       [-0.18420355],\n",
       "       [-0.18420355],\n",
       "       [-0.18420355],\n",
       "       [-0.18420355],\n",
       "       [-0.18420355],\n",
       "       [-0.18420355],\n",
       "       [-0.18420355],\n",
       "       [-0.18420355],\n",
       "       [-0.18420355],\n",
       "       [-0.18420355],\n",
       "       [-0.18420355],\n",
       "       [-0.18420355],\n",
       "       [-0.18420355],\n",
       "       [-0.18420355],\n",
       "       [-0.18420355],\n",
       "       [-0.18420355],\n",
       "       [-0.18420355],\n",
       "       [-0.18420355],\n",
       "       [-0.18420355],\n",
       "       [-0.18420355],\n",
       "       [-0.18420355],\n",
       "       [-0.18420355],\n",
       "       [-0.18420355],\n",
       "       [-0.18420355],\n",
       "       [-0.18420355],\n",
       "       [-0.18420355],\n",
       "       [-0.18420355],\n",
       "       [-0.18420355],\n",
       "       [-0.18420355],\n",
       "       [-0.18420355],\n",
       "       [-0.18420355],\n",
       "       [-0.18420355],\n",
       "       [-0.18420355],\n",
       "       [-0.18420355],\n",
       "       [-0.18420355],\n",
       "       [-0.18420355],\n",
       "       [-0.18420355],\n",
       "       [-0.18420355],\n",
       "       [-0.18420355],\n",
       "       [-0.18420355],\n",
       "       [-0.18420355],\n",
       "       [-0.18420355],\n",
       "       [-0.18420355],\n",
       "       [-0.18420355],\n",
       "       [-0.18420355],\n",
       "       [-0.18420355],\n",
       "       [-0.18420355],\n",
       "       [-0.18420355],\n",
       "       [-0.18420355],\n",
       "       [-0.18420355],\n",
       "       [-0.18420355],\n",
       "       [-0.18420355],\n",
       "       [-0.18420355],\n",
       "       [-0.18420355],\n",
       "       [-0.18420355],\n",
       "       [-0.18420355],\n",
       "       [-0.18420355],\n",
       "       [-0.18420355],\n",
       "       [-0.18420355],\n",
       "       [-0.18420355],\n",
       "       [-0.18420355],\n",
       "       [-0.18420355],\n",
       "       [-0.18420355],\n",
       "       [-0.18420355],\n",
       "       [-0.18420355],\n",
       "       [-0.18420355],\n",
       "       [-0.18420355],\n",
       "       [-0.18420355],\n",
       "       [-0.18420355],\n",
       "       [-0.18420355],\n",
       "       [-0.18420355],\n",
       "       [-0.18420355],\n",
       "       [-0.18420355],\n",
       "       [-0.18420355],\n",
       "       [-0.18420355],\n",
       "       [-0.18420355],\n",
       "       [-0.18420355],\n",
       "       [-0.18420355],\n",
       "       [-0.18420355],\n",
       "       [-0.18420355],\n",
       "       [-0.18420355],\n",
       "       [-0.18420355],\n",
       "       [-0.18420355],\n",
       "       [-0.18420355],\n",
       "       [-0.18420355],\n",
       "       [-0.18420355],\n",
       "       [-0.18420355],\n",
       "       [-0.18420355],\n",
       "       [-0.18420355],\n",
       "       [-0.18420355],\n",
       "       [-0.18420355],\n",
       "       [-0.18420355],\n",
       "       [-0.18420355],\n",
       "       [-0.18420355],\n",
       "       [-0.18420355],\n",
       "       [-0.18420355],\n",
       "       [-0.18420355],\n",
       "       [-0.18420355],\n",
       "       [-0.18420355],\n",
       "       [-0.18420355],\n",
       "       [-0.18420355],\n",
       "       [-0.18420355],\n",
       "       [-0.18420355],\n",
       "       [-0.18420355],\n",
       "       [-0.18420355],\n",
       "       [-0.18420355],\n",
       "       [-0.18420355],\n",
       "       [-0.18420355],\n",
       "       [-0.18420355],\n",
       "       [-0.18420355],\n",
       "       [-0.18420355],\n",
       "       [-0.18420355],\n",
       "       [-0.18420355],\n",
       "       [-0.18420355],\n",
       "       [-0.18420355],\n",
       "       [-0.18420355],\n",
       "       [-0.18420355],\n",
       "       [-0.18420355],\n",
       "       [-0.18420355],\n",
       "       [-0.18420355],\n",
       "       [-0.18420355],\n",
       "       [-0.18420355],\n",
       "       [-0.18420355],\n",
       "       [-0.18420355],\n",
       "       [-0.18420355],\n",
       "       [-0.18420355],\n",
       "       [-0.18420355],\n",
       "       [-0.18420355],\n",
       "       [-0.18420355],\n",
       "       [-0.18420355],\n",
       "       [-0.18420355],\n",
       "       [-0.18420355],\n",
       "       [-0.18420355],\n",
       "       [-0.18420355],\n",
       "       [-0.18420355],\n",
       "       [-0.18420355],\n",
       "       [-0.18420355],\n",
       "       [-0.18420355],\n",
       "       [-0.18420355],\n",
       "       [-0.18420355],\n",
       "       [-0.18420355],\n",
       "       [-0.18420355],\n",
       "       [-0.18420355],\n",
       "       [-0.18420355],\n",
       "       [-0.18420355],\n",
       "       [-0.18420355],\n",
       "       [-0.18420355],\n",
       "       [-0.18420355],\n",
       "       [-0.18420355],\n",
       "       [-0.18420355],\n",
       "       [-0.18420355],\n",
       "       [-0.18420355],\n",
       "       [-0.18420355],\n",
       "       [-0.18420355],\n",
       "       [-0.18420355],\n",
       "       [-0.18420355],\n",
       "       [-0.18420355],\n",
       "       [-0.18420355],\n",
       "       [-0.18420355],\n",
       "       [-0.18420355],\n",
       "       [-0.18420355],\n",
       "       [-0.18420355],\n",
       "       [-0.18420355],\n",
       "       [-0.18420355],\n",
       "       [-0.18420355],\n",
       "       [-0.18420355],\n",
       "       [-0.18420355],\n",
       "       [-0.18420355],\n",
       "       [-0.18420355],\n",
       "       [-0.18420355],\n",
       "       [-0.18420355],\n",
       "       [-0.18420355],\n",
       "       [-0.18420355],\n",
       "       [-0.18420355],\n",
       "       [-0.18420355],\n",
       "       [-0.18420355],\n",
       "       [-0.18420355],\n",
       "       [-0.18420355],\n",
       "       [-0.18420355],\n",
       "       [-0.18420355],\n",
       "       [-0.18420355],\n",
       "       [-0.18420355],\n",
       "       [-0.18420355],\n",
       "       [-0.18420355],\n",
       "       [-0.18420355],\n",
       "       [-0.18420355],\n",
       "       [-0.18420355],\n",
       "       [-0.18420355],\n",
       "       [-0.18420355],\n",
       "       [-0.18420355],\n",
       "       [-0.18420355],\n",
       "       [-0.18420355],\n",
       "       [-0.18420355],\n",
       "       [-0.18420355],\n",
       "       [-0.18420355],\n",
       "       [-0.18420355],\n",
       "       [-0.18420355],\n",
       "       [-0.18420355],\n",
       "       [-0.18420355],\n",
       "       [-0.18420355],\n",
       "       [-0.18420355],\n",
       "       [-0.18420355],\n",
       "       [-0.18420355],\n",
       "       [-0.18420355],\n",
       "       [-0.18420355],\n",
       "       [-0.18420355],\n",
       "       [-0.18420355],\n",
       "       [-0.18420355],\n",
       "       [-0.18420355],\n",
       "       [-0.18420355],\n",
       "       [-0.18420355],\n",
       "       [-0.18420355],\n",
       "       [-0.18420355],\n",
       "       [-0.18420355],\n",
       "       [-0.18420355],\n",
       "       [-0.18420355],\n",
       "       [-0.18420355],\n",
       "       [-0.18420355],\n",
       "       [-0.18420355],\n",
       "       [-0.18420355],\n",
       "       [-0.18420355],\n",
       "       [-0.18420355],\n",
       "       [-0.18420355],\n",
       "       [-0.18420355],\n",
       "       [-0.18420355],\n",
       "       [-0.18420355],\n",
       "       [-0.18420355],\n",
       "       [-0.18420355],\n",
       "       [-0.18420355],\n",
       "       [-0.18420355],\n",
       "       [-0.18420355],\n",
       "       [-0.18420355],\n",
       "       [-0.18420355],\n",
       "       [-0.18420355],\n",
       "       [-0.18420355],\n",
       "       [-0.18420355],\n",
       "       [-0.18420355],\n",
       "       [-0.18420355],\n",
       "       [-0.18420355],\n",
       "       [-0.18420355],\n",
       "       [-0.18420355],\n",
       "       [-0.18420355],\n",
       "       [-0.18420355],\n",
       "       [-0.18420355],\n",
       "       [-0.18420355],\n",
       "       [-0.18420355],\n",
       "       [-0.18420355],\n",
       "       [-0.18420355],\n",
       "       [-0.18420355],\n",
       "       [-0.18420355],\n",
       "       [-0.18420355],\n",
       "       [-0.18420355],\n",
       "       [-0.18420355],\n",
       "       [-0.18420355],\n",
       "       [-0.18420355],\n",
       "       [-0.18420355],\n",
       "       [-0.18420355],\n",
       "       [-0.18420355],\n",
       "       [-0.18420355],\n",
       "       [-0.18420355],\n",
       "       [-0.18420355],\n",
       "       [-0.18420355],\n",
       "       [-0.18420355],\n",
       "       [-0.18420355],\n",
       "       [-0.18420355],\n",
       "       [-0.18420355],\n",
       "       [-0.18420355],\n",
       "       [-0.18420355],\n",
       "       [-0.18420355],\n",
       "       [-0.18420355],\n",
       "       [-0.18420355],\n",
       "       [-0.18420355],\n",
       "       [-0.18420355],\n",
       "       [-0.18420355],\n",
       "       [-0.18420355],\n",
       "       [-0.18420355],\n",
       "       [-0.18420355],\n",
       "       [-0.18420355],\n",
       "       [-0.18420355],\n",
       "       [-0.18420355],\n",
       "       [-0.18420355],\n",
       "       [-0.18420355],\n",
       "       [-0.18420355],\n",
       "       [-0.18420355],\n",
       "       [-0.18420355],\n",
       "       [-0.18420355],\n",
       "       [-0.18420355],\n",
       "       [-0.18420355],\n",
       "       [-0.18420355],\n",
       "       [-0.18420355],\n",
       "       [-0.18420355],\n",
       "       [-0.18420355],\n",
       "       [-0.18420355],\n",
       "       [-0.18420355],\n",
       "       [-0.18420355],\n",
       "       [-0.18420355],\n",
       "       [-0.18420355],\n",
       "       [-0.18420355],\n",
       "       [-0.18420355],\n",
       "       [-0.18420355],\n",
       "       [-0.18420355],\n",
       "       [-0.18420355],\n",
       "       [-0.18420355],\n",
       "       [-0.18420355],\n",
       "       [-0.18420355],\n",
       "       [-0.18420355],\n",
       "       [-0.18420355],\n",
       "       [-0.18420355],\n",
       "       [-0.18420355],\n",
       "       [-0.18420355],\n",
       "       [-0.18420355],\n",
       "       [-0.18420355],\n",
       "       [-0.18420355],\n",
       "       [-0.18420355],\n",
       "       [-0.18420355],\n",
       "       [-0.18420355],\n",
       "       [-0.18420355],\n",
       "       [-0.18420355],\n",
       "       [-0.18420355],\n",
       "       [-0.18420355],\n",
       "       [-0.18420355],\n",
       "       [-0.18420355],\n",
       "       [-0.18420355],\n",
       "       [-0.18420355],\n",
       "       [-0.18420355],\n",
       "       [-0.18420355],\n",
       "       [-0.18420355],\n",
       "       [-0.18420355],\n",
       "       [-0.18420355],\n",
       "       [-0.18420355],\n",
       "       [-0.18420355],\n",
       "       [-0.18420355],\n",
       "       [-0.18420355],\n",
       "       [-0.18420355],\n",
       "       [-0.18420355],\n",
       "       [-0.18420355],\n",
       "       [-0.18420355],\n",
       "       [-0.18420355],\n",
       "       [-0.18420355],\n",
       "       [-0.18420355],\n",
       "       [-0.18420355],\n",
       "       [-0.18420355],\n",
       "       [-0.18420355],\n",
       "       [-0.18420355],\n",
       "       [-0.18420355],\n",
       "       [-0.18420355],\n",
       "       [-0.18420355],\n",
       "       [-0.18420355],\n",
       "       [-0.18420355],\n",
       "       [-0.18420355],\n",
       "       [-0.18420355],\n",
       "       [-0.18420355],\n",
       "       [-0.18420355],\n",
       "       [-0.18420355],\n",
       "       [-0.18420355],\n",
       "       [-0.18420355],\n",
       "       [-0.18420355],\n",
       "       [-0.18420355],\n",
       "       [-0.18420355],\n",
       "       [-0.18420355],\n",
       "       [-0.18420355],\n",
       "       [-0.18420355],\n",
       "       [-0.18420355],\n",
       "       [-0.18420355],\n",
       "       [-0.18420355],\n",
       "       [-0.18420355],\n",
       "       [-0.18420355],\n",
       "       [-0.18420355],\n",
       "       [-0.18420355],\n",
       "       [-0.18420355],\n",
       "       [-0.18420355],\n",
       "       [-0.18420355],\n",
       "       [-0.18420355],\n",
       "       [-0.18420355],\n",
       "       [-0.18420355],\n",
       "       [-0.18420355],\n",
       "       [-0.18420355],\n",
       "       [-0.18420355],\n",
       "       [-0.18420355],\n",
       "       [-0.18420355],\n",
       "       [-0.18420355],\n",
       "       [-0.18420355],\n",
       "       [-0.18420355],\n",
       "       [-0.18420355],\n",
       "       [-0.18420355],\n",
       "       [-0.18420355],\n",
       "       [-0.18420355],\n",
       "       [-0.18420355],\n",
       "       [-0.18420355],\n",
       "       [-0.18420355],\n",
       "       [-0.18420355],\n",
       "       [-0.18420355],\n",
       "       [-0.18420355],\n",
       "       [-0.18420355],\n",
       "       [-0.18420355],\n",
       "       [-0.18420355],\n",
       "       [-0.18420355],\n",
       "       [-0.18420355],\n",
       "       [-0.18420355],\n",
       "       [-0.18420355],\n",
       "       [-0.18420355],\n",
       "       [-0.18420355],\n",
       "       [-0.18420355],\n",
       "       [-0.18420355],\n",
       "       [-0.18420355],\n",
       "       [-0.18420355],\n",
       "       [-0.18420355],\n",
       "       [-0.18420355],\n",
       "       [-0.18420355],\n",
       "       [-0.18420355],\n",
       "       [-0.18420355],\n",
       "       [-0.18420355],\n",
       "       [-0.18420355],\n",
       "       [-0.18420355],\n",
       "       [-0.18420355],\n",
       "       [-0.18420355],\n",
       "       [-0.18420355],\n",
       "       [-0.18420355],\n",
       "       [-0.18420355],\n",
       "       [-0.18420355],\n",
       "       [-0.18420355],\n",
       "       [-0.18420355],\n",
       "       [-0.18420355],\n",
       "       [-0.18420355],\n",
       "       [-0.18420355],\n",
       "       [-0.18420355],\n",
       "       [-0.18420355],\n",
       "       [-0.18420355],\n",
       "       [-0.18420355],\n",
       "       [-0.18420355],\n",
       "       [-0.18420355],\n",
       "       [-0.18420355],\n",
       "       [-0.18420355],\n",
       "       [-0.18420355],\n",
       "       [-0.18420355],\n",
       "       [-0.18420355],\n",
       "       [-0.18420355],\n",
       "       [-0.18420355],\n",
       "       [-0.18420355],\n",
       "       [-0.18420355],\n",
       "       [-0.18420355],\n",
       "       [-0.18420355],\n",
       "       [-0.18420355],\n",
       "       [-0.18420355],\n",
       "       [-0.18420355],\n",
       "       [-0.18420355],\n",
       "       [-0.18420355],\n",
       "       [-0.18420355],\n",
       "       [-0.18420355],\n",
       "       [-0.18420355],\n",
       "       [-0.18420355],\n",
       "       [-0.18420355],\n",
       "       [-0.18420355],\n",
       "       [-0.18420355],\n",
       "       [-0.18420355],\n",
       "       [-0.18420355],\n",
       "       [-0.18420355],\n",
       "       [-0.18420355],\n",
       "       [-0.18420355],\n",
       "       [-0.18420355],\n",
       "       [-0.18420355],\n",
       "       [-0.18420355],\n",
       "       [-0.18420355],\n",
       "       [-0.18420355],\n",
       "       [-0.18420355],\n",
       "       [-0.18420355],\n",
       "       [-0.18420355],\n",
       "       [-0.18420355],\n",
       "       [-0.18420355],\n",
       "       [-0.18420355],\n",
       "       [-0.18420355],\n",
       "       [-0.18420355],\n",
       "       [-0.18420355],\n",
       "       [-0.18420355],\n",
       "       [-0.18420355],\n",
       "       [-0.18420355],\n",
       "       [-0.18420355],\n",
       "       [-0.18420355],\n",
       "       [-0.18420355],\n",
       "       [-0.18420355],\n",
       "       [-0.18420355],\n",
       "       [-0.18420355],\n",
       "       [-0.18420355],\n",
       "       [-0.18420355],\n",
       "       [-0.18420355],\n",
       "       [-0.18420355],\n",
       "       [-0.18420355],\n",
       "       [-0.18420355],\n",
       "       [-0.18420355],\n",
       "       [-0.18420355],\n",
       "       [-0.18420355],\n",
       "       [-0.18420355],\n",
       "       [-0.18420355],\n",
       "       [-0.18420355],\n",
       "       [-0.18420355],\n",
       "       [-0.18420355],\n",
       "       [-0.18420355],\n",
       "       [-0.18420355],\n",
       "       [-0.18420355],\n",
       "       [-0.18420355],\n",
       "       [-0.18420355],\n",
       "       [-0.18420355],\n",
       "       [-0.18420355],\n",
       "       [-0.18420355],\n",
       "       [-0.18420355],\n",
       "       [-0.18420355],\n",
       "       [-0.18420355],\n",
       "       [-0.18420355],\n",
       "       [-0.18420355]])"
      ]
     },
     "execution_count": 117,
     "metadata": {},
     "output_type": "execute_result"
    }
   ],
   "source": [
    "np.matmul(p_rest, logistic.coef_.T) # Sanity check"
   ]
  },
  {
   "cell_type": "code",
   "execution_count": 113,
   "metadata": {
    "ExecuteTime": {
     "end_time": "2018-04-18T14:35:51.042342Z",
     "start_time": "2018-04-18T14:35:50.956183Z"
    }
   },
   "outputs": [],
   "source": [
    "from sklearn import decomposition"
   ]
  },
  {
   "cell_type": "code",
   "execution_count": 114,
   "metadata": {
    "ExecuteTime": {
     "end_time": "2018-04-18T14:35:51.429624Z",
     "start_time": "2018-04-18T14:35:51.341613Z"
    }
   },
   "outputs": [],
   "source": [
    "pca = decomposition.PCA(1)"
   ]
  },
  {
   "cell_type": "code",
   "execution_count": 115,
   "metadata": {
    "ExecuteTime": {
     "end_time": "2018-04-18T14:35:53.284753Z",
     "start_time": "2018-04-18T14:35:53.193754Z"
    }
   },
   "outputs": [],
   "source": [
    "p2 = pca.fit_transform(p_rest) "
   ]
  },
  {
   "cell_type": "code",
   "execution_count": 116,
   "metadata": {
    "ExecuteTime": {
     "end_time": "2018-04-18T14:35:53.932733Z",
     "start_time": "2018-04-18T14:35:53.720691Z"
    }
   },
   "outputs": [
    {
     "data": {
      "image/png": "[encoded data removed]",
      "text/plain": [
       "<matplotlib.figure.Figure at 0x26849758780>"
      ]
     },
     "metadata": {},
     "output_type": "display_data"
    }
   ],
   "source": [
    "for mask, color in zip([age_Y==0, age_Y==1], ['r', 'b']):\n",
    "    plt.scatter(p1[mask], p2[mask], c=color, alpha=0.5, marker='x')\n",
    "plt.show()"
   ]
  },
  {
   "cell_type": "code",
   "execution_count": 121,
   "metadata": {
    "ExecuteTime": {
     "end_time": "2018-04-18T14:39:42.460603Z",
     "start_time": "2018-04-18T14:39:42.343573Z"
    }
   },
   "outputs": [
    {
     "data": {
      "text/plain": [
       "271"
      ]
     },
     "execution_count": 121,
     "metadata": {},
     "output_type": "execute_result"
    }
   ],
   "source": [
    "np.count_nonzero(age_Y==0)"
   ]
  },
  {
   "cell_type": "code",
   "execution_count": 122,
   "metadata": {
    "ExecuteTime": {
     "end_time": "2018-04-18T14:39:49.251756Z",
     "start_time": "2018-04-18T14:39:49.143036Z"
    }
   },
   "outputs": [
    {
     "data": {
      "text/plain": [
       "729"
      ]
     },
     "execution_count": 122,
     "metadata": {},
     "output_type": "execute_result"
    }
   ],
   "source": [
    "np.count_nonzero(age_Y==1)"
   ]
  },
  {
   "cell_type": "code",
   "execution_count": 126,
   "metadata": {
    "ExecuteTime": {
     "end_time": "2018-04-18T14:41:41.943683Z",
     "start_time": "2018-04-18T14:41:41.808289Z"
    }
   },
   "outputs": [
    {
     "data": {
      "text/plain": [
       "0.729"
      ]
     },
     "execution_count": 126,
     "metadata": {},
     "output_type": "execute_result"
    }
   ],
   "source": [
    "1-271/(271+729.0)"
   ]
  },
  {
   "cell_type": "code",
   "execution_count": 127,
   "metadata": {
    "ExecuteTime": {
     "end_time": "2018-04-18T16:58:28.987749Z",
     "start_time": "2018-04-18T16:58:28.666623Z"
    }
   },
   "outputs": [
    {
     "data": {
      "image/png": "[encoded data removed]",
      "text/plain": [
       "<matplotlib.figure.Figure at 0x26849899d30>"
      ]
     },
     "metadata": {},
     "output_type": "display_data"
    }
   ],
   "source": [
    "for mask, color in zip([age_Y==0, age_Y==1], ['r', 'b']):\n",
    "    plt.scatter(p1[mask], p2[mask], c=color, alpha=0.5, marker='x')\n",
    "plt.show()"
   ]
  },
  {
   "cell_type": "code",
   "execution_count": 128,
   "metadata": {
    "ExecuteTime": {
     "end_time": "2018-04-18T16:58:35.489869Z",
     "start_time": "2018-04-18T16:58:35.355467Z"
    }
   },
   "outputs": [
    {
     "ename": "NameError",
     "evalue": "name 'X' is not defined",
     "output_type": "error",
     "traceback": [
      "\u001b[1;31m---------------------------------------------------------------------------\u001b[0m",
      "\u001b[1;31mNameError\u001b[0m                                 Traceback (most recent call last)",
      "\u001b[1;32m<ipython-input-128-43fdd1c0059f>\u001b[0m in \u001b[0;36m<module>\u001b[1;34m()\u001b[0m\n\u001b[0;32m      1\u001b[0m \u001b[0mlogistic_1\u001b[0m \u001b[1;33m=\u001b[0m \u001b[0mlinear_model\u001b[0m\u001b[1;33m.\u001b[0m\u001b[0mLogisticRegression\u001b[0m\u001b[1;33m(\u001b[0m\u001b[1;33m)\u001b[0m\u001b[1;33m\u001b[0m\u001b[0m\n\u001b[1;32m----> 2\u001b[1;33m \u001b[0mlogistic_1\u001b[0m\u001b[1;33m.\u001b[0m\u001b[0mfit\u001b[0m\u001b[1;33m(\u001b[0m\u001b[0mX\u001b[0m\u001b[1;33m,\u001b[0m \u001b[0mtarget\u001b[0m\u001b[1;33m)\u001b[0m\u001b[1;33m\u001b[0m\u001b[0m\n\u001b[0m\u001b[0;32m      3\u001b[0m \u001b[1;33m\u001b[0m\u001b[0m\n\u001b[0;32m      4\u001b[0m \u001b[0mlogistic_2\u001b[0m \u001b[1;33m=\u001b[0m \u001b[0mlinear_model\u001b[0m\u001b[1;33m.\u001b[0m\u001b[0mLogisticRegression\u001b[0m\u001b[1;33m(\u001b[0m\u001b[1;33m)\u001b[0m\u001b[1;33m\u001b[0m\u001b[0m\n\u001b[0;32m      5\u001b[0m \u001b[0mlogistic_2\u001b[0m\u001b[1;33m.\u001b[0m\u001b[0mfit\u001b[0m\u001b[1;33m(\u001b[0m\u001b[0mX\u001b[0m\u001b[1;33m,\u001b[0m \u001b[0mtarget2\u001b[0m\u001b[1;33m)\u001b[0m\u001b[1;33m\u001b[0m\u001b[0m\n",
      "\u001b[1;31mNameError\u001b[0m: name 'X' is not defined"
     ]
    }
   ],
   "source": [
    "logistic_1 = linear_model.LogisticRegression()\n",
    "logistic_1.fit(X, target)\n",
    "\n",
    "logistic_2 = linear_model.LogisticRegression()\n",
    "logistic_2.fit(X, target2)"
   ]
  },
  {
   "cell_type": "code",
   "execution_count": 129,
   "metadata": {
    "ExecuteTime": {
     "end_time": "2018-04-18T16:58:45.097482Z",
     "start_time": "2018-04-18T16:58:44.993113Z"
    }
   },
   "outputs": [
    {
     "data": {
      "text/plain": [
       "(1, 57)"
      ]
     },
     "execution_count": 129,
     "metadata": {},
     "output_type": "execute_result"
    }
   ],
   "source": [
    "logistic.coef_.shape"
   ]
  },
  {
   "cell_type": "code",
   "execution_count": 138,
   "metadata": {
    "ExecuteTime": {
     "end_time": "2018-04-18T16:59:47.980533Z",
     "start_time": "2018-04-18T16:59:47.849550Z"
    }
   },
   "outputs": [],
   "source": [
    "X = np.hstack([logistic.coef_.T, logistic.coef_.T])"
   ]
  },
  {
   "cell_type": "code",
   "execution_count": 139,
   "metadata": {
    "ExecuteTime": {
     "end_time": "2018-04-18T16:59:48.426543Z",
     "start_time": "2018-04-18T16:59:48.303649Z"
    }
   },
   "outputs": [
    {
     "data": {
      "text/plain": [
       "(array([[-2.90732126e-03,  9.82320080e-01],\n",
       "        [-1.57266990e-04,  1.20487947e-04],\n",
       "        [ 1.21046052e-02,  2.36658159e-03],\n",
       "        [ 8.48944672e-02,  2.35783835e-02],\n",
       "        [-3.07154571e-02,  1.08675194e-02],\n",
       "        [ 2.99570611e-02, -1.76553759e-02],\n",
       "        [ 4.00444157e-02, -2.58426034e-02],\n",
       "        [ 3.89891412e-02, -1.15904113e-02],\n",
       "        [ 1.40440475e-01, -1.02913013e-01],\n",
       "        [ 2.37198934e-02,  5.05137947e-03],\n",
       "        [-3.39539058e-02,  2.40770355e-02],\n",
       "        [-3.29105119e-02,  2.82410453e-02],\n",
       "        [ 1.80290167e-01,  3.40165662e-02],\n",
       "        [-4.40050748e-02, -1.75092423e-03],\n",
       "        [ 2.39118185e-01,  3.58047362e-02],\n",
       "        [-4.83761895e-02, -1.14596824e-02],\n",
       "        [-5.44569029e-02,  1.20729769e-04],\n",
       "        [ 5.48119573e-02, -2.52421411e-02],\n",
       "        [ 1.45768157e-02, -7.69413497e-04],\n",
       "        [ 6.68963192e-02, -4.77236444e-02],\n",
       "        [-1.05528201e-01,  1.74110828e-02],\n",
       "        [ 4.83103045e-03, -3.26127255e-03],\n",
       "        [-1.59170057e-01,  6.99765649e-02],\n",
       "        [ 1.65752235e-01, -1.70177376e-02],\n",
       "        [-3.15514972e-02,  2.35536947e-02],\n",
       "        [ 2.08435489e-03,  8.45007241e-04],\n",
       "        [-8.22428461e-01, -4.60071590e-02],\n",
       "        [ 2.51558126e-02,  6.63623140e-03],\n",
       "        [ 1.05504999e-01, -2.98830066e-02],\n",
       "        [ 3.33656414e-02,  3.84380820e-03],\n",
       "        [-2.77413606e-02,  1.32953816e-02],\n",
       "        [ 1.22505702e-01, -5.08576790e-02],\n",
       "        [-2.95593654e-02,  5.82048768e-03],\n",
       "        [-3.59826040e-02,  3.40799084e-03],\n",
       "        [ 1.06704257e-01,  1.30878159e-02],\n",
       "        [ 2.01693184e-02, -9.13312721e-03],\n",
       "        [-3.71168099e-02, -9.48279028e-04],\n",
       "        [-1.01976981e-02, -2.95833451e-03],\n",
       "        [ 1.13377502e-01, -1.17628152e-02],\n",
       "        [-4.09549768e-02,  4.38973041e-03],\n",
       "        [-7.26602320e-02,  4.25667546e-03],\n",
       "        [ 1.16753147e-01, -2.59312144e-02],\n",
       "        [ 6.74741662e-02,  2.97643917e-02],\n",
       "        [ 1.02981848e-02, -2.45916525e-03],\n",
       "        [ 3.59795528e-02, -2.20860674e-03],\n",
       "        [ 6.31483902e-02,  4.52585093e-03],\n",
       "        [-4.06152018e-02,  2.78508273e-04],\n",
       "        [ 3.45363014e-02, -1.05741050e-02],\n",
       "        [ 4.87184254e-02, -1.13127319e-02],\n",
       "        [-2.87444749e-02,  4.73891271e-03],\n",
       "        [ 8.17748403e-02,  2.81133385e-02],\n",
       "        [ 6.43203373e-03, -2.83938631e-03],\n",
       "        [ 8.84601997e-03, -6.84014735e-03],\n",
       "        [ 8.61198243e-02, -1.75917252e-02],\n",
       "        [ 3.48872142e-02, -1.88331201e-02],\n",
       "        [ 8.96798732e-02, -5.16294364e-03],\n",
       "        [ 4.66052190e-02, -3.16172283e-03]]),\n",
       " array([[-1.35160454e+00, -1.35160454e+00],\n",
       "        [ 0.00000000e+00,  1.97788357e-16]]))"
      ]
     },
     "execution_count": 139,
     "metadata": {},
     "output_type": "execute_result"
    }
   ],
   "source": [
    "np.linalg.qr(X)"
   ]
  },
  {
   "cell_type": "code",
   "execution_count": null,
   "metadata": {},
   "outputs": [],
   "source": []
  }
 ],
 "metadata": {
  "hide_input": false,
  "kernelspec": {
   "display_name": "Python 3",
   "language": "python",
   "name": "python3"
  },
  "language_info": {
   "codemirror_mode": {
    "name": "ipython",
    "version": 3
   },
   "file_extension": ".py",
   "mimetype": "text/x-python",
   "name": "python",
   "nbconvert_exporter": "python",
   "pygments_lexer": "ipython3",
   "version": "3.6.3"
  }
 },
 "nbformat": 4,
 "nbformat_minor": 2
}
